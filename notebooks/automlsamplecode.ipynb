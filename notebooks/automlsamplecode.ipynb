{
 "cells": [
  {
   "cell_type": "code",
   "execution_count": 6,
   "id": "f0d14f22",
   "metadata": {},
   "outputs": [],
   "source": [
    "import logging\n",
    "\n",
    "from matplotlib import pyplot as plt\n",
    "import pandas as pd\n",
    "import os\n",
    "\n",
    "import azureml.core\n",
    "from azureml.core.experiment import Experiment\n",
    "from azureml.core.workspace import Workspace\n",
    "from azureml.core.dataset import Dataset\n",
    "from azureml.train.automl import AutoMLConfig\n",
    "from azureml.core.compute import ComputeTarget, AmlCompute\n",
    "from azureml.core.compute_target import ComputeTargetException\n",
    "from azureml.widgets import RunDetails\n",
    "from sklearn.metrics import confusion_matrix\n",
    "import numpy as np\n",
    "import itertools"
   ]
  },
  {
   "cell_type": "code",
   "execution_count": 7,
   "id": "e36bb269",
   "metadata": {},
   "outputs": [
    {
     "name": "stdout",
     "output_type": "stream",
     "text": [
      "This notebook was created using version 1.29.0 of the Azure ML SDK\n",
      "You are currently using version 1.28.0 of the Azure ML SDK\n"
     ]
    }
   ],
   "source": [
    "print(\"This notebook was created using version 1.29.0 of the Azure ML SDK\")\n",
    "print(\"You are currently using version\", azureml.core.VERSION, \"of the Azure ML SDK\")"
   ]
  },
  {
   "cell_type": "code",
   "execution_count": 8,
   "id": "34e69b1e",
   "metadata": {},
   "outputs": [
    {
     "data": {
      "text/html": [
       "<div>\n",
       "<style scoped>\n",
       "    .dataframe tbody tr th:only-of-type {\n",
       "        vertical-align: middle;\n",
       "    }\n",
       "\n",
       "    .dataframe tbody tr th {\n",
       "        vertical-align: top;\n",
       "    }\n",
       "\n",
       "    .dataframe thead th {\n",
       "        text-align: right;\n",
       "    }\n",
       "</style>\n",
       "<table border=\"1\" class=\"dataframe\">\n",
       "  <thead>\n",
       "    <tr style=\"text-align: right;\">\n",
       "      <th></th>\n",
       "      <th></th>\n",
       "    </tr>\n",
       "  </thead>\n",
       "  <tbody>\n",
       "    <tr>\n",
       "      <th>Subscription ID</th>\n",
       "      <td>c46a9435-c957-4e6c-a0f4-b9a597984773</td>\n",
       "    </tr>\n",
       "    <tr>\n",
       "      <th>Workspace</th>\n",
       "      <td>mlopsdev</td>\n",
       "    </tr>\n",
       "    <tr>\n",
       "      <th>Resource Group</th>\n",
       "      <td>mlops</td>\n",
       "    </tr>\n",
       "    <tr>\n",
       "      <th>Location</th>\n",
       "      <td>centralus</td>\n",
       "    </tr>\n",
       "    <tr>\n",
       "      <th>Experiment Name</th>\n",
       "      <td>automl-classification-ccard-remote</td>\n",
       "    </tr>\n",
       "  </tbody>\n",
       "</table>\n",
       "</div>"
      ],
      "text/plain": [
       "                                                     \n",
       "Subscription ID  c46a9435-c957-4e6c-a0f4-b9a597984773\n",
       "Workspace        mlopsdev                            \n",
       "Resource Group   mlops                               \n",
       "Location         centralus                           \n",
       "Experiment Name  automl-classification-ccard-remote  "
      ]
     },
     "execution_count": 8,
     "metadata": {},
     "output_type": "execute_result"
    }
   ],
   "source": [
    "ws = Workspace.from_config()\n",
    "\n",
    "\n",
    "\n"
   ]
  },
  {
   "cell_type": "code",
   "execution_count": 9,
   "id": "30a67062",
   "metadata": {},
   "outputs": [
    {
     "name": "stdout",
     "output_type": "stream",
     "text": [
      "Found existing cluster, use it.\n",
      "Succeeded\n",
      "AmlCompute wait for completion finished\n",
      "\n",
      "Minimum number of nodes requested have been provisioned\n"
     ]
    }
   ],
   "source": [
    "# Choose a name for your CPU cluster\n",
    "cpu_cluster_name = \"cpu-cluster\"\n",
    "\n",
    "# Verify that cluster does not exist already\n",
    "try:\n",
    "    compute_target = ComputeTarget(workspace=ws, name=cpu_cluster_name)\n",
    "    print('Found existing cluster, use it.')\n",
    "except ComputeTargetException:\n",
    "    compute_config = AmlCompute.provisioning_configuration(vm_size='STANDARD_DS12_V2',\n",
    "                                                           max_nodes=6)\n",
    "    compute_target = ComputeTarget.create(ws, cpu_cluster_name, compute_config)\n",
    "\n",
    "compute_target.wait_for_completion(show_output=True)"
   ]
  },
  {
   "cell_type": "code",
   "execution_count": 10,
   "id": "7fb1874c",
   "metadata": {},
   "outputs": [],
   "source": [
    "data = \"https://automlsamplenotebookdata.blob.core.windows.net/automl-sample-notebook-data/creditcard.csv\"\n",
    "dataset = Dataset.Tabular.from_delimited_files(data)\n",
    "training_data, validation_data = dataset.random_split(percentage=0.8, seed=223)\n",
    "label_column_name = 'Class'"
   ]
  },
  {
   "cell_type": "code",
   "execution_count": 11,
   "id": "6bca5af6",
   "metadata": {},
   "outputs": [],
   "source": [
    "automl_settings = {\n",
    "    \"n_cross_validations\": 3,\n",
    "    \"primary_metric\": 'average_precision_score_weighted',\n",
    "    \"enable_early_stopping\": True,\n",
    "    \"max_concurrent_iterations\": 2, # This is a limit for testing purpose, please increase it as per cluster size\n",
    "    \"experiment_timeout_hours\": 0.25, # This is a time limit for testing purposes, remove it for real use cases, this will drastically limit ablity to find the best model possible\n",
    "    \"verbosity\": logging.INFO,\n",
    "}\n",
    "\n",
    "automl_config = AutoMLConfig(task = 'classification',\n",
    "                             debug_log = 'automl_errors.log',\n",
    "                             compute_target = compute_target,\n",
    "                             training_data = training_data,\n",
    "                             label_column_name = label_column_name,\n",
    "                             **automl_settings\n",
    "                            )"
   ]
  },
  {
   "cell_type": "code",
   "execution_count": 12,
   "id": "7c4930ba",
   "metadata": {},
   "outputs": [
    {
     "name": "stderr",
     "output_type": "stream",
     "text": [
      "Class SynapseCompute: This is an experimental class, and may change at any time. Please see https://aka.ms/azuremlexperimental for more information.\n"
     ]
    },
    {
     "name": "stdout",
     "output_type": "stream",
     "text": [
      "Submitting remote run.\n"
     ]
    },
    {
     "data": {
      "text/html": [
       "<table style=\"width:100%\"><tr><th>Experiment</th><th>Id</th><th>Type</th><th>Status</th><th>Details Page</th><th>Docs Page</th></tr><tr><td>automl-classification-ccard-remote</td><td>AutoML_0383254c-2fd0-4768-a7d3-9020579a90bd</td><td>automl</td><td>NotStarted</td><td><a href=\"https://ml.azure.com/runs/AutoML_0383254c-2fd0-4768-a7d3-9020579a90bd?wsid=/subscriptions/c46a9435-c957-4e6c-a0f4-b9a597984773/resourcegroups/mlops/workspaces/mlopsdev&amp;tid=72f988bf-86f1-41af-91ab-2d7cd011db47\" target=\"_blank\" rel=\"noopener\">Link to Azure Machine Learning studio</a></td><td><a href=\"https://docs.microsoft.com/en-us/python/api/overview/azure/ml/intro?view=azure-ml-py\" target=\"_blank\" rel=\"noopener\">Link to Documentation</a></td></tr></table>"
      ],
      "text/plain": [
       "<IPython.core.display.HTML object>"
      ]
     },
     "metadata": {},
     "output_type": "display_data"
    }
   ],
   "source": [
    "remote_run = experiment.submit(automl_config, show_output = False)"
   ]
  },
  {
   "cell_type": "code",
   "execution_count": 13,
   "id": "8384c174",
   "metadata": {},
   "outputs": [
    {
     "data": {
      "application/vnd.jupyter.widget-view+json": {
       "model_id": "9098b8240868436d90d1dfe59b1f542e",
       "version_major": 2,
       "version_minor": 0
      },
      "text/plain": [
       "_AutoMLWidget(widget_settings={'childWidgetDisplay': 'popup', 'send_telemetry': False, 'log_level': 'INFO', 's…"
      ]
     },
     "metadata": {},
     "output_type": "display_data"
    },
    {
     "data": {
      "application/aml.mini.widget.v1": "{\"status\": \"Completed\", \"workbench_run_details_uri\": \"https://ml.azure.com/runs/AutoML_0383254c-2fd0-4768-a7d3-9020579a90bd?wsid=/subscriptions/c46a9435-c957-4e6c-a0f4-b9a597984773/resourcegroups/mlops/workspaces/mlopsdev&tid=72f988bf-86f1-41af-91ab-2d7cd011db47\", \"run_id\": \"AutoML_0383254c-2fd0-4768-a7d3-9020579a90bd\", \"run_properties\": {\"run_id\": \"AutoML_0383254c-2fd0-4768-a7d3-9020579a90bd\", \"created_utc\": \"2021-05-27T18:56:48.902766Z\", \"properties\": {\"num_iterations\": \"1000\", \"training_type\": \"TrainFull\", \"acquisition_function\": \"EI\", \"primary_metric\": \"average_precision_score_weighted\", \"train_split\": \"0\", \"acquisition_parameter\": \"0\", \"num_cross_validation\": \"3\", \"target\": \"cpu-cluster\", \"AMLSettingsJsonString\": \"{\\\"path\\\":null,\\\"name\\\":\\\"automl-classification-ccard-remote\\\",\\\"subscription_id\\\":\\\"c46a9435-c957-4e6c-a0f4-b9a597984773\\\",\\\"resource_group\\\":\\\"mlops\\\",\\\"workspace_name\\\":\\\"mlopsdev\\\",\\\"region\\\":\\\"centralus\\\",\\\"compute_target\\\":\\\"cpu-cluster\\\",\\\"spark_service\\\":null,\\\"azure_service\\\":\\\"remote\\\",\\\"many_models\\\":false,\\\"pipeline_fetch_max_batch_size\\\":1,\\\"enable_batch_run\\\":false,\\\"enable_run_restructure\\\":false,\\\"start_auxiliary_runs_before_parent_complete\\\":false,\\\"enable_code_generation\\\":false,\\\"iterations\\\":1000,\\\"primary_metric\\\":\\\"average_precision_score_weighted\\\",\\\"task_type\\\":\\\"classification\\\",\\\"data_script\\\":null,\\\"test_size\\\":0.0,\\\"validation_size\\\":0.0,\\\"n_cross_validations\\\":3,\\\"y_min\\\":null,\\\"y_max\\\":null,\\\"num_classes\\\":null,\\\"featurization\\\":\\\"auto\\\",\\\"_ignore_package_version_incompatibilities\\\":false,\\\"is_timeseries\\\":false,\\\"max_cores_per_iteration\\\":1,\\\"max_concurrent_iterations\\\":2,\\\"iteration_timeout_minutes\\\":null,\\\"mem_in_mb\\\":null,\\\"enforce_time_on_windows\\\":false,\\\"experiment_timeout_minutes\\\":15,\\\"experiment_exit_score\\\":null,\\\"whitelist_models\\\":null,\\\"blacklist_algos\\\":[\\\"TensorFlowLinearClassifier\\\",\\\"TensorFlowDNN\\\"],\\\"supported_models\\\":[\\\"ExtremeRandomTrees\\\",\\\"XGBoostClassifier\\\",\\\"LinearSVM\\\",\\\"TensorFlowLinearClassifier\\\",\\\"KNN\\\",\\\"LogisticRegression\\\",\\\"RandomForest\\\",\\\"BernoulliNaiveBayes\\\",\\\"AveragedPerceptronClassifier\\\",\\\"GradientBoosting\\\",\\\"MultinomialNaiveBayes\\\",\\\"SGD\\\",\\\"TensorFlowDNN\\\",\\\"LightGBM\\\",\\\"SVM\\\",\\\"DecisionTree\\\"],\\\"private_models\\\":[],\\\"auto_blacklist\\\":true,\\\"blacklist_samples_reached\\\":false,\\\"exclude_nan_labels\\\":true,\\\"verbosity\\\":20,\\\"_debug_log\\\":\\\"azureml_automl.log\\\",\\\"show_warnings\\\":false,\\\"model_explainability\\\":true,\\\"service_url\\\":null,\\\"sdk_url\\\":null,\\\"sdk_packages\\\":null,\\\"enable_onnx_compatible_models\\\":false,\\\"enable_split_onnx_featurizer_estimator_models\\\":false,\\\"vm_type\\\":\\\"STANDARD_F16S_V2\\\",\\\"telemetry_verbosity\\\":20,\\\"send_telemetry\\\":true,\\\"enable_dnn\\\":false,\\\"scenario\\\":\\\"SDK-1.13.0\\\",\\\"environment_label\\\":null,\\\"save_mlflow\\\":false,\\\"force_text_dnn\\\":false,\\\"enable_feature_sweeping\\\":true,\\\"enable_early_stopping\\\":true,\\\"early_stopping_n_iters\\\":10,\\\"metrics\\\":null,\\\"enable_metric_confidence\\\":false,\\\"enable_ensembling\\\":true,\\\"enable_stack_ensembling\\\":true,\\\"ensemble_iterations\\\":15,\\\"enable_tf\\\":false,\\\"enable_subsampling\\\":null,\\\"subsample_seed\\\":null,\\\"enable_nimbusml\\\":false,\\\"enable_streaming\\\":false,\\\"force_streaming\\\":false,\\\"track_child_runs\\\":true,\\\"allowed_private_models\\\":[],\\\"label_column_name\\\":\\\"Class\\\",\\\"weight_column_name\\\":null,\\\"cv_split_column_names\\\":null,\\\"enable_local_managed\\\":false,\\\"_local_managed_run_id\\\":null,\\\"cost_mode\\\":1,\\\"lag_length\\\":0,\\\"metric_operation\\\":\\\"maximize\\\",\\\"preprocess\\\":true}\", \"DataPrepJsonString\": \"{\\\\\\\"training_data\\\\\\\": {\\\\\\\"datasetId\\\\\\\": \\\\\\\"3e4e1c3b-a6c9-4811-b5af-32285df2aad2\\\\\\\"}, \\\\\\\"datasets\\\\\\\": 0}\", \"EnableSubsampling\": null, \"runTemplate\": \"AutoML\", \"azureml.runsource\": \"automl\", \"display_task_type\": \"classification\", \"dependencies_versions\": \"{\\\"azureml-widgets\\\": \\\"1.26.0\\\", \\\"azureml-train\\\": \\\"1.28.0\\\", \\\"azureml-train-restclients-hyperdrive\\\": \\\"1.28.0\\\", \\\"azureml-train-core\\\": \\\"1.28.0\\\", \\\"azureml-train-automl\\\": \\\"1.28.0\\\", \\\"azureml-train-automl-runtime\\\": \\\"1.28.0\\\", \\\"azureml-train-automl-client\\\": \\\"1.28.0\\\", \\\"azureml-tensorboard\\\": \\\"1.26.0\\\", \\\"azureml-telemetry\\\": \\\"1.28.0\\\", \\\"azureml-sdk\\\": \\\"1.28.0\\\", \\\"azureml-samples\\\": \\\"0+unknown\\\", \\\"azureml-pipeline\\\": \\\"1.28.0\\\", \\\"azureml-pipeline-steps\\\": \\\"1.28.0\\\", \\\"azureml-pipeline-core\\\": \\\"1.28.0\\\", \\\"azureml-opendatasets\\\": \\\"1.26.0\\\", \\\"azureml-model-management-sdk\\\": \\\"1.0.1b6.post1\\\", \\\"azureml-mlflow\\\": \\\"1.26.0\\\", \\\"azureml-interpret\\\": \\\"1.28.0\\\", \\\"azureml-explain-model\\\": \\\"1.26.0\\\", \\\"azureml-defaults\\\": \\\"1.28.0\\\", \\\"azureml-dataset-runtime\\\": \\\"1.28.0\\\", \\\"azureml-dataprep\\\": \\\"2.15.0\\\", \\\"azureml-dataprep-rslex\\\": \\\"1.13.0\\\", \\\"azureml-dataprep-native\\\": \\\"33.0.0\\\", \\\"azureml-datadrift\\\": \\\"1.28.0\\\", \\\"azureml-core\\\": \\\"1.28.0\\\", \\\"azureml-contrib-services\\\": \\\"1.26.0\\\", \\\"azureml-contrib-server\\\": \\\"1.26.0\\\", \\\"azureml-contrib-reinforcementlearning\\\": \\\"1.26.0\\\", \\\"azureml-contrib-pipeline-steps\\\": \\\"1.28.0\\\", \\\"azureml-contrib-notebook\\\": \\\"1.26.0\\\", \\\"azureml-contrib-gbdt\\\": \\\"1.26.0\\\", \\\"azureml-contrib-fairness\\\": \\\"1.26.0\\\", \\\"azureml-contrib-dataset\\\": \\\"1.26.0\\\", \\\"azureml-cli-common\\\": \\\"1.28.0\\\", \\\"azureml-automl-runtime\\\": \\\"1.28.0.post2\\\", \\\"azureml-automl-dnn-nlp\\\": \\\"1.26.0\\\", \\\"azureml-automl-core\\\": \\\"1.28.0\\\", \\\"azureml-accel-models\\\": \\\"1.26.0\\\"}\", \"_aml_system_scenario_identification\": \"Remote.Parent\", \"ClientType\": \"SDK\", \"environment_cpu_name\": \"AzureML-AutoML\", \"environment_cpu_label\": \"prod\", \"environment_gpu_name\": \"AzureML-AutoML-GPU\", \"environment_gpu_label\": \"prod\", \"root_attribution\": \"automl\", \"attribution\": \"AutoML\", \"Orchestrator\": \"AutoML\", \"CancelUri\": \"https://centralus.api.azureml.ms/jasmine/v1.0/subscriptions/c46a9435-c957-4e6c-a0f4-b9a597984773/resourceGroups/mlops/providers/Microsoft.MachineLearningServices/workspaces/mlopsdev/experimentids/d60b7c37-2ebd-40ee-bfea-41d93dce2337/cancel/AutoML_0383254c-2fd0-4768-a7d3-9020579a90bd\", \"ClientSdkVersion\": \"1.28.0\", \"snapshotId\": \"00000000-0000-0000-0000-000000000000\", \"SetupRunId\": \"AutoML_0383254c-2fd0-4768-a7d3-9020579a90bd_setup\", \"SetupRunContainerId\": \"dcid.AutoML_0383254c-2fd0-4768-a7d3-9020579a90bd_setup\", \"FeaturizationRunJsonPath\": \"featurizer_container.json\", \"FeaturizationRunId\": \"AutoML_0383254c-2fd0-4768-a7d3-9020579a90bd_featurize\", \"ProblemInfoJsonString\": \"{\\\"dataset_num_categorical\\\": 0, \\\"is_sparse\\\": false, \\\"subsampling\\\": false, \\\"has_extra_col\\\": true, \\\"dataset_classes\\\": 2, \\\"dataset_features\\\": 30, \\\"dataset_samples\\\": 227711, \\\"single_frequency_class_detected\\\": false}\", \"ModelExplainRunId\": \"AutoML_0383254c-2fd0-4768-a7d3-9020579a90bd_ModelExplain\"}, \"tags\": {\"model_explain_run\": \"best_run\", \"_aml_system_azureml.automlComponent\": \"AutoML\", \"pipeline_id\": \"\", \"score\": \"\", \"predicted_cost\": \"\", \"fit_time\": \"\", \"training_percent\": \"\", \"iteration\": \"\", \"run_preprocessor\": \"\", \"run_algorithm\": \"\", \"automl_best_child_run_id\": \"AutoML_0383254c-2fd0-4768-a7d3-9020579a90bd_1\", \"model_explain_best_run_child_id\": \"AutoML_0383254c-2fd0-4768-a7d3-9020579a90bd_1\"}, \"end_time_utc\": \"2021-05-27T19:22:09.844113Z\", \"status\": \"Completed\", \"log_files\": {}, \"log_groups\": [], \"run_duration\": \"0:25:20\", \"run_number\": \"1622141808\", \"run_queued_details\": {\"status\": \"Completed\", \"details\": null}}, \"child_runs\": [{\"run_id\": \"AutoML_0383254c-2fd0-4768-a7d3-9020579a90bd_1\", \"run_number\": 1622142214, \"metric\": null, \"status\": \"Completed\", \"run_type\": \"azureml.scriptrun\", \"training_percent\": \"100\", \"start_time\": \"2021-05-27T19:03:49.120962Z\", \"end_time\": \"2021-05-27T19:06:44.391365Z\", \"created_time\": \"2021-05-27T19:03:34.850049Z\", \"created_time_dt\": \"2021-05-27T19:03:34.850049Z\", \"duration\": \"0:03:09\", \"iteration\": \"1\", \"goal\": \"average_precision_score_weighted_max\", \"run_name\": \"MaxAbsScaler, XGBoostClassifier\", \"run_properties\": \"copy=True\", \"primary_metric\": 0.99967063, \"best_metric\": 0.99967063}, {\"run_id\": \"AutoML_0383254c-2fd0-4768-a7d3-9020579a90bd_2\", \"run_number\": 1622142405, \"metric\": null, \"status\": \"Completed\", \"run_type\": \"azureml.scriptrun\", \"training_percent\": \"100\", \"start_time\": \"2021-05-27T19:06:59.493742Z\", \"end_time\": \"2021-05-27T19:07:50.883018Z\", \"created_time\": \"2021-05-27T19:06:45.597563Z\", \"created_time_dt\": \"2021-05-27T19:06:45.597563Z\", \"duration\": \"0:01:05\", \"iteration\": \"2\", \"goal\": \"average_precision_score_weighted_max\", \"run_name\": \"RobustScaler, ExtremeRandomTrees\", \"run_properties\": \"copy=True, quantile_range=[10, 90], with_centering=False,\\n             with_scaling=False\", \"primary_metric\": 0.99909924, \"best_metric\": 0.99967063}, {\"run_id\": \"AutoML_0383254c-2fd0-4768-a7d3-9020579a90bd_3\", \"run_number\": 1622142473, \"metric\": null, \"status\": \"Completed\", \"run_type\": \"azureml.scriptrun\", \"training_percent\": \"100\", \"start_time\": \"2021-05-27T19:08:07.152924Z\", \"end_time\": \"2021-05-27T19:09:02.327403Z\", \"created_time\": \"2021-05-27T19:07:52.993996Z\", \"created_time_dt\": \"2021-05-27T19:07:52.993996Z\", \"duration\": \"0:01:09\", \"iteration\": \"3\", \"goal\": \"average_precision_score_weighted_max\", \"run_name\": \"RobustScaler, ExtremeRandomTrees\", \"run_properties\": \"copy=True, quantile_range=[10, 90], with_centering=True,\\n             with_scaling=False\", \"primary_metric\": 0.99919438, \"best_metric\": 0.99967063}, {\"run_id\": \"AutoML_0383254c-2fd0-4768-a7d3-9020579a90bd_4\", \"run_number\": 1622142521, \"metric\": null, \"status\": \"Completed\", \"run_type\": \"azureml.scriptrun\", \"training_percent\": \"100\", \"start_time\": \"2021-05-27T19:08:56.373299Z\", \"end_time\": \"2021-05-27T19:09:51.507051Z\", \"created_time\": \"2021-05-27T19:08:41.810922Z\", \"created_time_dt\": \"2021-05-27T19:08:41.810922Z\", \"duration\": \"0:01:09\", \"iteration\": \"4\", \"goal\": \"average_precision_score_weighted_max\", \"run_name\": \"MinMaxScaler, ExtremeRandomTrees\", \"run_properties\": \"copy=True, feature_range=(0, 1\", \"primary_metric\": 0.99914787, \"best_metric\": 0.99967063}, {\"run_id\": \"AutoML_0383254c-2fd0-4768-a7d3-9020579a90bd_5\", \"run_number\": 1622142544, \"metric\": null, \"status\": \"Completed\", \"run_type\": \"azureml.scriptrun\", \"training_percent\": \"100\", \"start_time\": \"2021-05-27T19:09:16.490319Z\", \"end_time\": \"2021-05-27T19:10:54.270521Z\", \"created_time\": \"2021-05-27T19:09:04.443653Z\", \"created_time_dt\": \"2021-05-27T19:09:04.443653Z\", \"duration\": \"0:01:49\", \"iteration\": \"5\", \"goal\": \"average_precision_score_weighted_max\", \"run_name\": \"StandardScalerWrapper, RandomForest\", \"run_properties\": \"\\n    copy=True,\\n    with_mean=True,\\n    with_std=False\\n\", \"primary_metric\": 0.99940782, \"best_metric\": 0.99967063}, {\"run_id\": \"AutoML_0383254c-2fd0-4768-a7d3-9020579a90bd_6\", \"run_number\": 1622142593, \"metric\": null, \"status\": \"Completed\", \"run_type\": \"azureml.scriptrun\", \"training_percent\": \"100\", \"start_time\": \"2021-05-27T19:10:05.063896Z\", \"end_time\": \"2021-05-27T19:10:59.374749Z\", \"created_time\": \"2021-05-27T19:09:53.625094Z\", \"created_time_dt\": \"2021-05-27T19:09:53.625094Z\", \"duration\": \"0:01:05\", \"iteration\": \"6\", \"goal\": \"average_precision_score_weighted_max\", \"run_name\": \"MinMaxScaler, ExtremeRandomTrees\", \"run_properties\": \"copy=True, feature_range=(0, 1\", \"primary_metric\": 0.99920811, \"best_metric\": 0.99967063}, {\"run_id\": \"AutoML_0383254c-2fd0-4768-a7d3-9020579a90bd_7\", \"run_number\": 1622142656, \"metric\": null, \"status\": \"Completed\", \"run_type\": \"azureml.scriptrun\", \"training_percent\": \"100\", \"start_time\": \"2021-05-27T19:11:05.877617Z\", \"end_time\": \"2021-05-27T19:12:02.32022Z\", \"created_time\": \"2021-05-27T19:10:56.150058Z\", \"created_time_dt\": \"2021-05-27T19:10:56.150058Z\", \"duration\": \"0:01:06\", \"iteration\": \"7\", \"goal\": \"average_precision_score_weighted_max\", \"run_name\": \"MinMaxScaler, ExtremeRandomTrees\", \"run_properties\": \"copy=True, feature_range=(0, 1\", \"primary_metric\": 0.9991341, \"best_metric\": 0.99967063}, {\"run_id\": \"AutoML_0383254c-2fd0-4768-a7d3-9020579a90bd_8\", \"run_number\": 1622142661, \"metric\": null, \"status\": \"Completed\", \"run_type\": \"azureml.scriptrun\", \"training_percent\": \"100\", \"start_time\": \"2021-05-27T19:11:15.410292Z\", \"end_time\": \"2021-05-27T19:12:19.903511Z\", \"created_time\": \"2021-05-27T19:11:01.287581Z\", \"created_time_dt\": \"2021-05-27T19:11:01.287581Z\", \"duration\": \"0:01:18\", \"iteration\": \"8\", \"goal\": \"average_precision_score_weighted_max\", \"run_name\": \"RobustScaler, RandomForest\", \"run_properties\": \"copy=True, quantile_range=[25, 75], with_centering=True,\\n             with_scaling=False\", \"primary_metric\": 0.99932533, \"best_metric\": 0.99967063}, {\"run_id\": \"AutoML_0383254c-2fd0-4768-a7d3-9020579a90bd_9\", \"run_number\": 1622142724, \"metric\": null, \"status\": \"Completed\", \"run_type\": \"azureml.scriptrun\", \"training_percent\": \"100\", \"start_time\": \"2021-05-27T19:12:15.945312Z\", \"end_time\": \"2021-05-27T19:13:44.982528Z\", \"created_time\": \"2021-05-27T19:12:04.420185Z\", \"created_time_dt\": \"2021-05-27T19:12:04.420185Z\", \"duration\": \"0:01:40\", \"iteration\": \"9\", \"goal\": \"average_precision_score_weighted_max\", \"run_name\": \"StandardScalerWrapper, RandomForest\", \"run_properties\": \"\\n    copy=True,\\n    with_mean=True,\\n    with_std=True\\n\", \"primary_metric\": 0.99942722, \"best_metric\": 0.99967063}, {\"run_id\": \"AutoML_0383254c-2fd0-4768-a7d3-9020579a90bd_10\", \"run_number\": 1622142741, \"metric\": null, \"status\": \"Completed\", \"run_type\": \"azureml.scriptrun\", \"training_percent\": \"100\", \"start_time\": \"2021-05-27T19:12:31.702376Z\", \"end_time\": \"2021-05-27T19:13:34.128545Z\", \"created_time\": \"2021-05-27T19:12:21.853888Z\", \"created_time_dt\": \"2021-05-27T19:12:21.853888Z\", \"duration\": \"0:01:12\", \"iteration\": \"10\", \"goal\": \"average_precision_score_weighted_max\", \"run_name\": \"StandardScalerWrapper, ExtremeRandomTrees\", \"run_properties\": \"\\n    copy=True,\\n    with_mean=True,\\n    with_std=False\\n\", \"primary_metric\": 0.99929092, \"best_metric\": 0.99967063}, {\"run_id\": \"AutoML_0383254c-2fd0-4768-a7d3-9020579a90bd_11\", \"run_number\": 1622142816, \"metric\": null, \"status\": \"Completed\", \"run_type\": \"azureml.scriptrun\", \"training_percent\": \"100\", \"start_time\": \"2021-05-27T19:13:50.940856Z\", \"end_time\": \"2021-05-27T19:14:49.237519Z\", \"created_time\": \"2021-05-27T19:13:36.21988Z\", \"created_time_dt\": \"2021-05-27T19:13:36.21988Z\", \"duration\": \"0:01:13\", \"iteration\": \"11\", \"goal\": \"average_precision_score_weighted_max\", \"run_name\": \"RobustScaler, ExtremeRandomTrees\", \"run_properties\": \"copy=True, quantile_range=[10, 90], with_centering=False,\\n             with_scaling=False\", \"primary_metric\": 0.99928267, \"best_metric\": 0.99967063}, {\"run_id\": \"AutoML_0383254c-2fd0-4768-a7d3-9020579a90bd_12\", \"run_number\": 1622142827, \"metric\": null, \"status\": \"Completed\", \"run_type\": \"azureml.scriptrun\", \"training_percent\": \"100\", \"start_time\": \"2021-05-27T19:13:59.608748Z\", \"end_time\": \"2021-05-27T19:14:54.171898Z\", \"created_time\": \"2021-05-27T19:13:47.780024Z\", \"created_time_dt\": \"2021-05-27T19:13:47.780024Z\", \"duration\": \"0:01:06\", \"iteration\": \"12\", \"goal\": \"average_precision_score_weighted_max\", \"run_name\": \"MinMaxScaler, ExtremeRandomTrees\", \"run_properties\": \"copy=True, feature_range=(0, 1\", \"primary_metric\": 0.99921102, \"best_metric\": 0.99967063}, {\"run_id\": \"AutoML_0383254c-2fd0-4768-a7d3-9020579a90bd_13\", \"run_number\": 1622142891, \"metric\": null, \"status\": \"Completed\", \"run_type\": \"azureml.scriptrun\", \"training_percent\": \"100\", \"start_time\": \"2021-05-27T19:15:07.646224Z\", \"end_time\": \"2021-05-27T19:16:37.354608Z\", \"created_time\": \"2021-05-27T19:14:51.203973Z\", \"created_time_dt\": \"2021-05-27T19:14:51.203973Z\", \"duration\": \"0:01:46\", \"iteration\": \"13\", \"goal\": \"average_precision_score_weighted_max\", \"run_name\": \"MinMaxScaler, RandomForest\", \"run_properties\": \"copy=True, feature_range=(0, 1\", \"primary_metric\": 0.99941949, \"best_metric\": 0.99967063}, {\"run_id\": \"AutoML_0383254c-2fd0-4768-a7d3-9020579a90bd_14\", \"run_number\": 1622142896, \"metric\": null, \"status\": \"Completed\", \"run_type\": \"azureml.scriptrun\", \"training_percent\": \"100\", \"start_time\": \"2021-05-27T19:15:07.963625Z\", \"end_time\": \"2021-05-27T19:16:17.91677Z\", \"created_time\": \"2021-05-27T19:14:56.03865Z\", \"created_time_dt\": \"2021-05-27T19:14:56.03865Z\", \"duration\": \"0:01:21\", \"iteration\": \"14\", \"goal\": \"average_precision_score_weighted_max\", \"run_name\": \"StandardScalerWrapper, XGBoostClassifier\", \"run_properties\": \"\\n    copy=True,\\n    with_mean=False,\\n    with_std=False\\n\", \"primary_metric\": 0.99936407, \"best_metric\": 0.99967063}, {\"run_id\": \"AutoML_0383254c-2fd0-4768-a7d3-9020579a90bd_15\", \"run_number\": 1622142980, \"metric\": null, \"status\": \"Completed\", \"run_type\": \"azureml.scriptrun\", \"training_percent\": \"100\", \"start_time\": \"2021-05-27T19:16:32.347933Z\", \"end_time\": \"2021-05-27T19:17:26.743105Z\", \"created_time\": \"2021-05-27T19:16:19.999427Z\", \"created_time_dt\": \"2021-05-27T19:16:19.999427Z\", \"duration\": \"0:01:06\", \"iteration\": \"15\", \"goal\": \"average_precision_score_weighted_max\", \"run_name\": \"MaxAbsScaler, ExtremeRandomTrees\", \"run_properties\": \"copy=True\", \"primary_metric\": 0.99936782, \"best_metric\": 0.99967063}, {\"run_id\": \"AutoML_0383254c-2fd0-4768-a7d3-9020579a90bd_16\", \"run_number\": 1622143000, \"metric\": null, \"status\": \"Completed\", \"run_type\": \"azureml.scriptrun\", \"training_percent\": \"100\", \"start_time\": \"2021-05-27T19:17:23.932387Z\", \"end_time\": \"2021-05-27T19:18:33.834305Z\", \"created_time\": \"2021-05-27T19:16:40.338977Z\", \"created_time_dt\": \"2021-05-27T19:16:40.338977Z\", \"duration\": \"0:01:53\", \"iteration\": \"16\", \"goal\": \"average_precision_score_weighted_max\", \"run_name\": \"MaxAbsScaler, RandomForest\", \"run_properties\": \"copy=True\", \"primary_metric\": 0.9993787, \"best_metric\": 0.99967063}, {\"run_id\": \"AutoML_0383254c-2fd0-4768-a7d3-9020579a90bd_17\", \"run_number\": 1622143049, \"metric\": null, \"status\": \"Completed\", \"run_type\": \"azureml.scriptrun\", \"training_percent\": \"100\", \"start_time\": \"2021-05-27T19:17:40.054342Z\", \"end_time\": \"2021-05-27T19:18:52.198167Z\", \"created_time\": \"2021-05-27T19:17:29.723389Z\", \"created_time_dt\": \"2021-05-27T19:17:29.723389Z\", \"duration\": \"0:01:22\", \"iteration\": \"17\", \"goal\": \"average_precision_score_weighted_max\", \"run_name\": \"MinMaxScaler, RandomForest\", \"run_properties\": \"copy=True, feature_range=(0, 1\", \"primary_metric\": 0.99933256, \"best_metric\": 0.99967063}, {\"run_id\": \"AutoML_0383254c-2fd0-4768-a7d3-9020579a90bd_18\", \"run_number\": 1622143116, \"metric\": null, \"status\": \"Canceled\", \"run_type\": \"azureml.scriptrun\", \"training_percent\": \"100\", \"start_time\": \"2021-05-27T19:18:48.141499Z\", \"end_time\": \"2021-05-27T19:18:58.48216Z\", \"created_time\": \"2021-05-27T19:18:36.312339Z\", \"created_time_dt\": \"2021-05-27T19:18:36.312339Z\", \"duration\": \"0:00:22\", \"iteration\": \"18\", \"goal\": null, \"run_name\": \"Canceled\", \"run_properties\": null}, {\"run_id\": \"AutoML_0383254c-2fd0-4768-a7d3-9020579a90bd_19\", \"run_number\": 1622143139, \"metric\": null, \"status\": \"Completed\", \"run_type\": \"azureml.scriptrun\", \"training_percent\": \"100\", \"start_time\": \"2021-05-27T19:19:07.138864Z\", \"end_time\": \"2021-05-27T19:20:53.052366Z\", \"created_time\": \"2021-05-27T19:18:59.168898Z\", \"created_time_dt\": \"2021-05-27T19:18:59.168898Z\", \"duration\": \"0:01:53\", \"iteration\": \"19\", \"goal\": \"average_precision_score_weighted_max\", \"run_name\": \"VotingEnsemble\", \"run_properties\": \"\\n    estimators=[('1', Pipeline(memory=None,\\n             steps=[('maxabsscaler', MaxAbsScaler(copy=True\", \"primary_metric\": 0.99966002, \"best_metric\": 0.99967063}], \"children_metrics\": {\"categories\": [0], \"series\": {\"AUC_micro\": [{\"categories\": [\"1\", \"2\", \"3\", \"4\", \"5\", \"6\", \"7\", \"8\", \"9\", \"10\", \"11\", \"12\", \"13\", \"14\", \"15\", \"16\", \"17\", \"19\"], \"mode\": \"markers\", \"name\": \"AUC_micro\", \"stepped\": false, \"type\": \"scatter\", \"data\": [0.9999266264052974, 0.9998598723605716, 0.9998719616106797, 0.999850797956135, 0.999881388926731, 0.999877044658338, 0.9971971931126934, 0.9931393613686393, 0.9948023765229014, 0.9998668770307403, 0.9991430121678974, 0.9998491011248237, 0.998357405966889, 0.9997261039442744, 0.9946624597131599, 0.9998791127317886, 0.9998672980201162, 0.9999188548285028]}, {\"categories\": [\"1\", \"2\", \"3\", \"4\", \"5\", \"6\", \"7\", \"8\", \"9\", \"10\", \"11\", \"12\", \"13\", \"14\", \"15\", \"16\", \"17\", \"19\"], \"mode\": \"lines\", \"name\": \"AUC_micro_max\", \"stepped\": true, \"type\": \"scatter\", \"data\": [0.9999266264052974, 0.9999266264052974, 0.9999266264052974, 0.9999266264052974, 0.9999266264052974, 0.9999266264052974, 0.9999266264052974, 0.9999266264052974, 0.9999266264052974, 0.9999266264052974, 0.9999266264052974, 0.9999266264052974, 0.9999266264052974, 0.9999266264052974, 0.9999266264052974, 0.9999266264052974, 0.9999266264052974, 0.9999266264052974]}], \"balanced_accuracy\": [{\"categories\": [\"1\", \"2\", \"3\", \"4\", \"5\", \"6\", \"7\", \"8\", \"9\", \"10\", \"11\", \"12\", \"13\", \"14\", \"15\", \"16\", \"17\", \"19\"], \"mode\": \"markers\", \"name\": \"balanced_accuracy\", \"stepped\": false, \"type\": \"scatter\", \"data\": [0.8895057952254914, 0.5, 0.5, 0.5, 0.5, 0.5, 0.9041406386493289, 0.9227359968717109, 0.9287591878350542, 0.5, 0.9077071487637286, 0.5, 0.9290259007143996, 0.8543815780360885, 0.9140237599931283, 0.5, 0.5, 0.8909677828330008]}, {\"categories\": [\"1\", \"2\", \"3\", \"4\", \"5\", \"6\", \"7\", \"8\", \"9\", \"10\", \"11\", \"12\", \"13\", \"14\", \"15\", \"16\", \"17\", \"19\"], \"mode\": \"lines\", \"name\": \"balanced_accuracy_max\", \"stepped\": true, \"type\": \"scatter\", \"data\": [0.8895057952254914, 0.8895057952254914, 0.8895057952254914, 0.8895057952254914, 0.8895057952254914, 0.8895057952254914, 0.9041406386493289, 0.9227359968717109, 0.9287591878350542, 0.9287591878350542, 0.9287591878350542, 0.9287591878350542, 0.9290259007143996, 0.9290259007143996, 0.9290259007143996, 0.9290259007143996, 0.9290259007143996, 0.9290259007143996]}], \"norm_macro_recall\": [{\"categories\": [\"1\", \"2\", \"3\", \"4\", \"5\", \"6\", \"7\", \"8\", \"9\", \"10\", \"11\", \"12\", \"13\", \"14\", \"15\", \"16\", \"17\", \"19\"], \"mode\": \"markers\", \"name\": \"norm_macro_recall\", \"stepped\": false, \"type\": \"scatter\", \"data\": [0.779011590450983, 0.0, 0.0, 0.0, 0.0, 0.0, 0.8082812772986575, 0.845471993743422, 0.8575183756701085, 0.0, 0.8154142975274571, 0.0, 0.8580518014287993, 0.7087631560721771, 0.8280475199862568, 0.0, 0.0, 0.7819355656660015]}, {\"categories\": [\"1\", \"2\", \"3\", \"4\", \"5\", \"6\", \"7\", \"8\", \"9\", \"10\", \"11\", \"12\", \"13\", \"14\", \"15\", \"16\", \"17\", \"19\"], \"mode\": \"lines\", \"name\": \"norm_macro_recall_max\", \"stepped\": true, \"type\": \"scatter\", \"data\": [0.779011590450983, 0.779011590450983, 0.779011590450983, 0.779011590450983, 0.779011590450983, 0.779011590450983, 0.8082812772986575, 0.845471993743422, 0.8575183756701085, 0.8575183756701085, 0.8575183756701085, 0.8575183756701085, 0.8580518014287993, 0.8580518014287993, 0.8580518014287993, 0.8580518014287993, 0.8580518014287993, 0.8580518014287993]}], \"precision_score_micro\": [{\"categories\": [\"1\", \"2\", \"3\", \"4\", \"5\", \"6\", \"7\", \"8\", \"9\", \"10\", \"11\", \"12\", \"13\", \"14\", \"15\", \"16\", \"17\", \"19\"], \"mode\": \"markers\", \"name\": \"precision_score_micro\", \"stepped\": false, \"type\": \"scatter\", \"data\": [0.9995081486214392, 0.9983224344569664, 0.9983224344569664, 0.9983224344569664, 0.9983224344569664, 0.9983224344569664, 0.9803873716412794, 0.959075349257836, 0.9652059258175747, 0.9983224344569664, 0.9907558250560387, 0.9983224344569664, 0.9812218060908845, 0.9993851855309072, 0.9701155664379658, 0.9983224344569664, 0.9983224344569664, 0.9995125400756676]}, {\"categories\": [\"1\", \"2\", \"3\", \"4\", \"5\", \"6\", \"7\", \"8\", \"9\", \"10\", \"11\", \"12\", \"13\", \"14\", \"15\", \"16\", \"17\", \"19\"], \"mode\": \"lines\", \"name\": \"precision_score_micro_max\", \"stepped\": true, \"type\": \"scatter\", \"data\": [0.9995081486214392, 0.9995081486214392, 0.9995081486214392, 0.9995081486214392, 0.9995081486214392, 0.9995081486214392, 0.9995081486214392, 0.9995081486214392, 0.9995081486214392, 0.9995081486214392, 0.9995081486214392, 0.9995081486214392, 0.9995081486214392, 0.9995081486214392, 0.9995081486214392, 0.9995081486214392, 0.9995081486214392, 0.9995125400756676]}], \"average_precision_score_macro\": [{\"categories\": [\"1\", \"2\", \"3\", \"4\", \"5\", \"6\", \"7\", \"8\", \"9\", \"10\", \"11\", \"12\", \"13\", \"14\", \"15\", \"16\", \"17\", \"19\"], \"mode\": \"markers\", \"name\": \"average_precision_score_macro\", \"stepped\": false, \"type\": \"scatter\", \"data\": [0.9168744732157661, 0.7647549632443796, 0.7887483486050098, 0.7736008479931394, 0.8508531409366923, 0.7911572097947203, 0.7815538605663971, 0.8230737654971367, 0.8484627680248832, 0.8162752536583074, 0.8108589501033171, 0.7985357336423514, 0.8454614244665498, 0.8922437473400257, 0.8372886111294248, 0.8423385081623088, 0.8285602932477021, 0.9151935028377597]}, {\"categories\": [\"1\", \"2\", \"3\", \"4\", \"5\", \"6\", \"7\", \"8\", \"9\", \"10\", \"11\", \"12\", \"13\", \"14\", \"15\", \"16\", \"17\", \"19\"], \"mode\": \"lines\", \"name\": \"average_precision_score_macro_max\", \"stepped\": true, \"type\": \"scatter\", \"data\": [0.9168744732157661, 0.9168744732157661, 0.9168744732157661, 0.9168744732157661, 0.9168744732157661, 0.9168744732157661, 0.9168744732157661, 0.9168744732157661, 0.9168744732157661, 0.9168744732157661, 0.9168744732157661, 0.9168744732157661, 0.9168744732157661, 0.9168744732157661, 0.9168744732157661, 0.9168744732157661, 0.9168744732157661, 0.9168744732157661]}], \"recall_score_micro\": [{\"categories\": [\"1\", \"2\", \"3\", \"4\", \"5\", \"6\", \"7\", \"8\", \"9\", \"10\", \"11\", \"12\", \"13\", \"14\", \"15\", \"16\", \"17\", \"19\"], \"mode\": \"markers\", \"name\": \"recall_score_micro\", \"stepped\": false, \"type\": \"scatter\", \"data\": [0.9995081486214392, 0.9983224344569664, 0.9983224344569664, 0.9983224344569664, 0.9983224344569664, 0.9983224344569664, 0.9803873716412794, 0.959075349257836, 0.9652059258175747, 0.9983224344569664, 0.9907558250560387, 0.9983224344569664, 0.9812218060908845, 0.9993851855309072, 0.9701155664379658, 0.9983224344569664, 0.9983224344569664, 0.9995125400756676]}, {\"categories\": [\"1\", \"2\", \"3\", \"4\", \"5\", \"6\", \"7\", \"8\", \"9\", \"10\", \"11\", \"12\", \"13\", \"14\", \"15\", \"16\", \"17\", \"19\"], \"mode\": \"lines\", \"name\": \"recall_score_micro_max\", \"stepped\": true, \"type\": \"scatter\", \"data\": [0.9995081486214392, 0.9995081486214392, 0.9995081486214392, 0.9995081486214392, 0.9995081486214392, 0.9995081486214392, 0.9995081486214392, 0.9995081486214392, 0.9995081486214392, 0.9995081486214392, 0.9995081486214392, 0.9995081486214392, 0.9995081486214392, 0.9995081486214392, 0.9995081486214392, 0.9995081486214392, 0.9995081486214392, 0.9995125400756676]}], \"average_precision_score_micro\": [{\"categories\": [\"1\", \"2\", \"3\", \"4\", \"5\", \"6\", \"7\", \"8\", \"9\", \"10\", \"11\", \"12\", \"13\", \"14\", \"15\", \"16\", \"17\", \"19\"], \"mode\": \"markers\", \"name\": \"average_precision_score_micro\", \"stepped\": false, \"type\": \"scatter\", \"data\": [0.9999217369104666, 0.9998495322619806, 0.9998621402302034, 0.999839687100931, 0.9998641984843412, 0.9998641031759501, 0.996593845637796, 0.9932665922526366, 0.9948911567425958, 0.9998603169759134, 0.9982549874496275, 0.9998337616800191, 0.9983489497540766, 0.9995900205710907, 0.9946643632649557, 0.9998630219648922, 0.9998556853151266, 0.999913241669739]}, {\"categories\": [\"1\", \"2\", \"3\", \"4\", \"5\", \"6\", \"7\", \"8\", \"9\", \"10\", \"11\", \"12\", \"13\", \"14\", \"15\", \"16\", \"17\", \"19\"], \"mode\": \"lines\", \"name\": \"average_precision_score_micro_max\", \"stepped\": true, \"type\": \"scatter\", \"data\": [0.9999217369104666, 0.9999217369104666, 0.9999217369104666, 0.9999217369104666, 0.9999217369104666, 0.9999217369104666, 0.9999217369104666, 0.9999217369104666, 0.9999217369104666, 0.9999217369104666, 0.9999217369104666, 0.9999217369104666, 0.9999217369104666, 0.9999217369104666, 0.9999217369104666, 0.9999217369104666, 0.9999217369104666, 0.9999217369104666]}], \"precision_score_macro\": [{\"categories\": [\"1\", \"2\", \"3\", \"4\", \"5\", \"6\", \"7\", \"8\", \"9\", \"10\", \"11\", \"12\", \"13\", \"14\", \"15\", \"16\", \"17\", \"19\"], \"mode\": \"markers\", \"name\": \"precision_score_macro\", \"stepped\": false, \"type\": \"scatter\", \"data\": [0.9576376097418787, 0.4991612172284832, 0.4991612172284832, 0.4991612172284832, 0.4991612172284832, 0.4991612172284832, 0.5390421009596676, 0.517959836686165, 0.5211837265060248, 0.4991612172284832, 0.5669588282343884, 0.4991612172284832, 0.5366322847638451, 0.9551350856307934, 0.5246944723613559, 0.4991612172284832, 0.4991612172284832, 0.9580933819427296]}, {\"categories\": [\"1\", \"2\", \"3\", \"4\", \"5\", \"6\", \"7\", \"8\", \"9\", \"10\", \"11\", \"12\", \"13\", \"14\", \"15\", \"16\", \"17\", \"19\"], \"mode\": \"lines\", \"name\": \"precision_score_macro_max\", \"stepped\": true, \"type\": \"scatter\", \"data\": [0.9576376097418787, 0.9576376097418787, 0.9576376097418787, 0.9576376097418787, 0.9576376097418787, 0.9576376097418787, 0.9576376097418787, 0.9576376097418787, 0.9576376097418787, 0.9576376097418787, 0.9576376097418787, 0.9576376097418787, 0.9576376097418787, 0.9576376097418787, 0.9576376097418787, 0.9576376097418787, 0.9576376097418787, 0.9580933819427296]}], \"f1_score_macro\": [{\"categories\": [\"1\", \"2\", \"3\", \"4\", \"5\", \"6\", \"7\", \"8\", \"9\", \"10\", \"11\", \"12\", \"13\", \"14\", \"15\", \"16\", \"17\", \"19\"], \"mode\": \"markers\", \"name\": \"f1_score_macro\", \"stepped\": false, \"type\": \"scatter\", \"data\": [0.9206802502192587, 0.4995802544765709, 0.4995802544765709, 0.4995802544765709, 0.4995802544765709, 0.4995802544765709, 0.5659463942341227, 0.524196564804229, 0.5316783043485783, 0.4995802544765709, 0.6129636631671311, 0.4995802544765709, 0.5630453688502902, 0.8979921196653177, 0.5391600171197953, 0.4995802544765709, 0.4995802544765709, 0.9217262611923984]}, {\"categories\": [\"1\", \"2\", \"3\", \"4\", \"5\", \"6\", \"7\", \"8\", \"9\", \"10\", \"11\", \"12\", \"13\", \"14\", \"15\", \"16\", \"17\", \"19\"], \"mode\": \"lines\", \"name\": \"f1_score_macro_max\", \"stepped\": true, \"type\": \"scatter\", \"data\": [0.9206802502192587, 0.9206802502192587, 0.9206802502192587, 0.9206802502192587, 0.9206802502192587, 0.9206802502192587, 0.9206802502192587, 0.9206802502192587, 0.9206802502192587, 0.9206802502192587, 0.9206802502192587, 0.9206802502192587, 0.9206802502192587, 0.9206802502192587, 0.9206802502192587, 0.9206802502192587, 0.9206802502192587, 0.9217262611923984]}], \"recall_score_weighted\": [{\"categories\": [\"1\", \"2\", \"3\", \"4\", \"5\", \"6\", \"7\", \"8\", \"9\", \"10\", \"11\", \"12\", \"13\", \"14\", \"15\", \"16\", \"17\", \"19\"], \"mode\": \"markers\", \"name\": \"recall_score_weighted\", \"stepped\": false, \"type\": \"scatter\", \"data\": [0.9995081486214392, 0.9983224344569664, 0.9983224344569664, 0.9983224344569664, 0.9983224344569664, 0.9983224344569664, 0.9803873716412794, 0.959075349257836, 0.9652059258175747, 0.9983224344569664, 0.9907558250560387, 0.9983224344569664, 0.9812218060908845, 0.9993851855309072, 0.9701155664379658, 0.9983224344569664, 0.9983224344569664, 0.9995125400756676]}, {\"categories\": [\"1\", \"2\", \"3\", \"4\", \"5\", \"6\", \"7\", \"8\", \"9\", \"10\", \"11\", \"12\", \"13\", \"14\", \"15\", \"16\", \"17\", \"19\"], \"mode\": \"lines\", \"name\": \"recall_score_weighted_max\", \"stepped\": true, \"type\": \"scatter\", \"data\": [0.9995081486214392, 0.9995081486214392, 0.9995081486214392, 0.9995081486214392, 0.9995081486214392, 0.9995081486214392, 0.9995081486214392, 0.9995081486214392, 0.9995081486214392, 0.9995081486214392, 0.9995081486214392, 0.9995081486214392, 0.9995081486214392, 0.9995081486214392, 0.9995081486214392, 0.9995081486214392, 0.9995081486214392, 0.9995125400756676]}], \"precision_score_weighted\": [{\"categories\": [\"1\", \"2\", \"3\", \"4\", \"5\", \"6\", \"7\", \"8\", \"9\", \"10\", \"11\", \"12\", \"13\", \"14\", \"15\", \"16\", \"17\", \"19\"], \"mode\": \"markers\", \"name\": \"precision_score_weighted\", \"stepped\": false, \"type\": \"scatter\", \"data\": [0.9994888418934424, 0.9966476996118162, 0.9966476996118162, 0.9966476996118162, 0.9966476996118162, 0.9966476996118162, 0.9981546186172366, 0.998186652760102, 0.9982082236249529, 0.9966476996118162, 0.9982522740799528, 0.9966476996118162, 0.9982353338424378, 0.9993571985527697, 0.9981660167244888, 0.9966476996118162, 0.9966476996118162, 0.9994937817543151]}, {\"categories\": [\"1\", \"2\", \"3\", \"4\", \"5\", \"6\", \"7\", \"8\", \"9\", \"10\", \"11\", \"12\", \"13\", \"14\", \"15\", \"16\", \"17\", \"19\"], \"mode\": \"lines\", \"name\": \"precision_score_weighted_max\", \"stepped\": true, \"type\": \"scatter\", \"data\": [0.9994888418934424, 0.9994888418934424, 0.9994888418934424, 0.9994888418934424, 0.9994888418934424, 0.9994888418934424, 0.9994888418934424, 0.9994888418934424, 0.9994888418934424, 0.9994888418934424, 0.9994888418934424, 0.9994888418934424, 0.9994888418934424, 0.9994888418934424, 0.9994888418934424, 0.9994888418934424, 0.9994888418934424, 0.9994937817543151]}], \"AUC_macro\": [{\"categories\": [\"1\", \"2\", \"3\", \"4\", \"5\", \"6\", \"7\", \"8\", \"9\", \"10\", \"11\", \"12\", \"13\", \"14\", \"15\", \"16\", \"17\", \"19\"], \"mode\": \"markers\", \"name\": \"AUC_macro\", \"stepped\": false, \"type\": \"scatter\", \"data\": [0.9781963569891952, 0.9584180812316117, 0.9624281324254284, 0.9559316788508766, 0.9650879443700232, 0.9636241886027824, 0.9506141525643, 0.9667424537792063, 0.9726802895633068, 0.9604234716596493, 0.9651362289719853, 0.9550342557796592, 0.9736767769769775, 0.9182357311371531, 0.96348139119983, 0.9638608372897446, 0.9607144643625131, 0.9755653480369354]}, {\"categories\": [\"1\", \"2\", \"3\", \"4\", \"5\", \"6\", \"7\", \"8\", \"9\", \"10\", \"11\", \"12\", \"13\", \"14\", \"15\", \"16\", \"17\", \"19\"], \"mode\": \"lines\", \"name\": \"AUC_macro_max\", \"stepped\": true, \"type\": \"scatter\", \"data\": [0.9781963569891952, 0.9781963569891952, 0.9781963569891952, 0.9781963569891952, 0.9781963569891952, 0.9781963569891952, 0.9781963569891952, 0.9781963569891952, 0.9781963569891952, 0.9781963569891952, 0.9781963569891952, 0.9781963569891952, 0.9781963569891952, 0.9781963569891952, 0.9781963569891952, 0.9781963569891952, 0.9781963569891952, 0.9781963569891952]}], \"log_loss\": [{\"categories\": [\"1\", \"2\", \"3\", \"4\", \"5\", \"6\", \"7\", \"8\", \"9\", \"10\", \"11\", \"12\", \"13\", \"14\", \"15\", \"16\", \"17\", \"19\"], \"mode\": \"markers\", \"name\": \"log_loss\", \"stepped\": false, \"type\": \"scatter\", \"data\": [0.0026985578546418164, 0.010635921346762894, 0.009227279223943006, 0.009618088306907616, 0.007225806491577384, 0.00855192918766956, 0.6004859384619405, 0.23976539757038903, 0.18410980116409373, 0.010317826924000852, 0.6052579123954205, 0.01005954066113076, 0.11555709080440131, 0.19885027106046302, 0.33977412401686835, 0.007707373140832744, 0.008724175364189917, 0.10530196113595641]}, {\"categories\": [\"1\", \"2\", \"3\", \"4\", \"5\", \"6\", \"7\", \"8\", \"9\", \"10\", \"11\", \"12\", \"13\", \"14\", \"15\", \"16\", \"17\", \"19\"], \"mode\": \"lines\", \"name\": \"log_loss_min\", \"stepped\": true, \"type\": \"scatter\", \"data\": [0.0026985578546418164, 0.0026985578546418164, 0.0026985578546418164, 0.0026985578546418164, 0.0026985578546418164, 0.0026985578546418164, 0.0026985578546418164, 0.0026985578546418164, 0.0026985578546418164, 0.0026985578546418164, 0.0026985578546418164, 0.0026985578546418164, 0.0026985578546418164, 0.0026985578546418164, 0.0026985578546418164, 0.0026985578546418164, 0.0026985578546418164, 0.0026985578546418164]}], \"matthews_correlation\": [{\"categories\": [\"1\", \"2\", \"3\", \"4\", \"5\", \"6\", \"7\", \"8\", \"9\", \"10\", \"11\", \"12\", \"13\", \"14\", \"15\", \"16\", \"17\", \"19\"], \"mode\": \"markers\", \"name\": \"matthews_correlation\", \"stepped\": false, \"type\": \"scatter\", \"data\": [0.8442556111626427, 0.0, 0.0, 0.0, 0.0, 0.0, 0.24750410275271992, 0.17361847475748726, 0.1897406452154394, 0.0, 0.3300484910620814, 0.0, 0.25072088645409685, 0.8027348223470544, 0.20074060670152552, 0.0, 0.0, 0.8462604633761558]}, {\"categories\": [\"1\", \"2\", \"3\", \"4\", \"5\", \"6\", \"7\", \"8\", \"9\", \"10\", \"11\", \"12\", \"13\", \"14\", \"15\", \"16\", \"17\", \"19\"], \"mode\": \"lines\", \"name\": \"matthews_correlation_max\", \"stepped\": true, \"type\": \"scatter\", \"data\": [0.8442556111626427, 0.8442556111626427, 0.8442556111626427, 0.8442556111626427, 0.8442556111626427, 0.8442556111626427, 0.8442556111626427, 0.8442556111626427, 0.8442556111626427, 0.8442556111626427, 0.8442556111626427, 0.8442556111626427, 0.8442556111626427, 0.8442556111626427, 0.8442556111626427, 0.8442556111626427, 0.8442556111626427, 0.8462604633761558]}], \"AUC_weighted\": [{\"categories\": [\"1\", \"2\", \"3\", \"4\", \"5\", \"6\", \"7\", \"8\", \"9\", \"10\", \"11\", \"12\", \"13\", \"14\", \"15\", \"16\", \"17\", \"19\"], \"mode\": \"markers\", \"name\": \"AUC_weighted\", \"stepped\": false, \"type\": \"scatter\", \"data\": [0.9781959347216219, 0.9584180812316115, 0.9624281324254284, 0.9559316788508766, 0.9650868639434459, 0.9636241886027825, 0.9506141525643, 0.9667424537792063, 0.9726802895633067, 0.9604234716596495, 0.9651362289719855, 0.9550342557796591, 0.9736773827864372, 0.9182357311371532, 0.96348139119983, 0.9638608372897446, 0.9607144643625131, 0.9755653647694538]}, {\"categories\": [\"1\", \"2\", \"3\", \"4\", \"5\", \"6\", \"7\", \"8\", \"9\", \"10\", \"11\", \"12\", \"13\", \"14\", \"15\", \"16\", \"17\", \"19\"], \"mode\": \"lines\", \"name\": \"AUC_weighted_max\", \"stepped\": true, \"type\": \"scatter\", \"data\": [0.9781959347216219, 0.9781959347216219, 0.9781959347216219, 0.9781959347216219, 0.9781959347216219, 0.9781959347216219, 0.9781959347216219, 0.9781959347216219, 0.9781959347216219, 0.9781959347216219, 0.9781959347216219, 0.9781959347216219, 0.9781959347216219, 0.9781959347216219, 0.9781959347216219, 0.9781959347216219, 0.9781959347216219, 0.9781959347216219]}], \"average_precision_score_weighted\": [{\"categories\": [\"1\", \"2\", \"3\", \"4\", \"5\", \"6\", \"7\", \"8\", \"9\", \"10\", \"11\", \"12\", \"13\", \"14\", \"15\", \"16\", \"17\", \"19\"], \"mode\": \"markers\", \"name\": \"average_precision_score_weighted\", \"stepped\": false, \"type\": \"scatter\", \"data\": [0.9996706300494327, 0.9990992354893088, 0.9991943784762021, 0.9991478668799157, 0.9994078196291477, 0.9992081094378887, 0.999134099796748, 0.9993253342064524, 0.9994272202897058, 0.9992909228186817, 0.9992826682054686, 0.9992110174934448, 0.999419489118995, 0.9993640743586093, 0.9993678174926454, 0.9993787045718636, 0.99933255889067, 0.999660015644166]}, {\"categories\": [\"1\", \"2\", \"3\", \"4\", \"5\", \"6\", \"7\", \"8\", \"9\", \"10\", \"11\", \"12\", \"13\", \"14\", \"15\", \"16\", \"17\", \"19\"], \"mode\": \"lines\", \"name\": \"average_precision_score_weighted_max\", \"stepped\": true, \"type\": \"scatter\", \"data\": [0.9996706300494327, 0.9996706300494327, 0.9996706300494327, 0.9996706300494327, 0.9996706300494327, 0.9996706300494327, 0.9996706300494327, 0.9996706300494327, 0.9996706300494327, 0.9996706300494327, 0.9996706300494327, 0.9996706300494327, 0.9996706300494327, 0.9996706300494327, 0.9996706300494327, 0.9996706300494327, 0.9996706300494327, 0.9996706300494327]}], \"accuracy\": [{\"categories\": [\"1\", \"2\", \"3\", \"4\", \"5\", \"6\", \"7\", \"8\", \"9\", \"10\", \"11\", \"12\", \"13\", \"14\", \"15\", \"16\", \"17\", \"19\"], \"mode\": \"markers\", \"name\": \"accuracy\", \"stepped\": false, \"type\": \"scatter\", \"data\": [0.9995081486214392, 0.9983224344569664, 0.9983224344569664, 0.9983224344569664, 0.9983224344569664, 0.9983224344569664, 0.9803873716412794, 0.959075349257836, 0.9652059258175747, 0.9983224344569664, 0.9907558250560387, 0.9983224344569664, 0.9812218060908845, 0.9993851855309072, 0.9701155664379658, 0.9983224344569664, 0.9983224344569664, 0.9995125400756676]}, {\"categories\": [\"1\", \"2\", \"3\", \"4\", \"5\", \"6\", \"7\", \"8\", \"9\", \"10\", \"11\", \"12\", \"13\", \"14\", \"15\", \"16\", \"17\", \"19\"], \"mode\": \"lines\", \"name\": \"accuracy_max\", \"stepped\": true, \"type\": \"scatter\", \"data\": [0.9995081486214392, 0.9995081486214392, 0.9995081486214392, 0.9995081486214392, 0.9995081486214392, 0.9995081486214392, 0.9995081486214392, 0.9995081486214392, 0.9995081486214392, 0.9995081486214392, 0.9995081486214392, 0.9995081486214392, 0.9995081486214392, 0.9995081486214392, 0.9995081486214392, 0.9995081486214392, 0.9995081486214392, 0.9995125400756676]}], \"weighted_accuracy\": [{\"categories\": [\"1\", \"2\", \"3\", \"4\", \"5\", \"6\", \"7\", \"8\", \"9\", \"10\", \"11\", \"12\", \"13\", \"14\", \"15\", \"16\", \"17\", \"19\"], \"mode\": \"markers\", \"name\": \"weighted_accuracy\", \"stepped\": false, \"type\": \"scatter\", \"data\": [0.9998762065944747, 0.9999971596800036, 0.9999971596800036, 0.9999971596800036, 0.9999971596800036, 0.9999971596800036, 0.9806432936959645, 0.95919586017584, 0.9653279745631549, 0.9999971596800036, 0.9910345697121429, 0.9999971596800036, 0.9813964953030853, 0.9998715994566646, 0.9702972918715281, 0.9999971596800036, 0.9999971596800036, 0.9998762118211809]}, {\"categories\": [\"1\", \"2\", \"3\", \"4\", \"5\", \"6\", \"7\", \"8\", \"9\", \"10\", \"11\", \"12\", \"13\", \"14\", \"15\", \"16\", \"17\", \"19\"], \"mode\": \"lines\", \"name\": \"weighted_accuracy_max\", \"stepped\": true, \"type\": \"scatter\", \"data\": [0.9998762065944747, 0.9999971596800036, 0.9999971596800036, 0.9999971596800036, 0.9999971596800036, 0.9999971596800036, 0.9999971596800036, 0.9999971596800036, 0.9999971596800036, 0.9999971596800036, 0.9999971596800036, 0.9999971596800036, 0.9999971596800036, 0.9999971596800036, 0.9999971596800036, 0.9999971596800036, 0.9999971596800036, 0.9999971596800036]}], \"f1_score_weighted\": [{\"categories\": [\"1\", \"2\", \"3\", \"4\", \"5\", \"6\", \"7\", \"8\", \"9\", \"10\", \"11\", \"12\", \"13\", \"14\", \"15\", \"16\", \"17\", \"19\"], \"mode\": \"markers\", \"name\": \"f1_score_weighted\", \"stepped\": false, \"type\": \"scatter\", \"data\": [0.9994889941890648, 0.9974843599607911, 0.9974843599607911, 0.9974843599607911, 0.9974843599607911, 0.9974843599607911, 0.988634912781205, 0.9775471962285435, 0.9807520795684299, 0.9974843599607911, 0.9940691804859317, 0.9974843599607911, 0.9890728114054621, 0.9993493310633216, 0.9832859781942461, 0.9974843599607911, 0.9974843599607911, 0.9994939851201804]}, {\"categories\": [\"1\", \"2\", \"3\", \"4\", \"5\", \"6\", \"7\", \"8\", \"9\", \"10\", \"11\", \"12\", \"13\", \"14\", \"15\", \"16\", \"17\", \"19\"], \"mode\": \"lines\", \"name\": \"f1_score_weighted_max\", \"stepped\": true, \"type\": \"scatter\", \"data\": [0.9994889941890648, 0.9994889941890648, 0.9994889941890648, 0.9994889941890648, 0.9994889941890648, 0.9994889941890648, 0.9994889941890648, 0.9994889941890648, 0.9994889941890648, 0.9994889941890648, 0.9994889941890648, 0.9994889941890648, 0.9994889941890648, 0.9994889941890648, 0.9994889941890648, 0.9994889941890648, 0.9994889941890648, 0.9994939851201804]}], \"recall_score_macro\": [{\"categories\": [\"1\", \"2\", \"3\", \"4\", \"5\", \"6\", \"7\", \"8\", \"9\", \"10\", \"11\", \"12\", \"13\", \"14\", \"15\", \"16\", \"17\", \"19\"], \"mode\": \"markers\", \"name\": \"recall_score_macro\", \"stepped\": false, \"type\": \"scatter\", \"data\": [0.8895057952254914, 0.5, 0.5, 0.5, 0.5, 0.5, 0.9041406386493289, 0.9227359968717109, 0.9287591878350542, 0.5, 0.9077071487637286, 0.5, 0.9290259007143996, 0.8543815780360885, 0.9140237599931283, 0.5, 0.5, 0.8909677828330008]}, {\"categories\": [\"1\", \"2\", \"3\", \"4\", \"5\", \"6\", \"7\", \"8\", \"9\", \"10\", \"11\", \"12\", \"13\", \"14\", \"15\", \"16\", \"17\", \"19\"], \"mode\": \"lines\", \"name\": \"recall_score_macro_max\", \"stepped\": true, \"type\": \"scatter\", \"data\": [0.8895057952254914, 0.8895057952254914, 0.8895057952254914, 0.8895057952254914, 0.8895057952254914, 0.8895057952254914, 0.9041406386493289, 0.9227359968717109, 0.9287591878350542, 0.9287591878350542, 0.9287591878350542, 0.9287591878350542, 0.9290259007143996, 0.9290259007143996, 0.9290259007143996, 0.9290259007143996, 0.9290259007143996, 0.9290259007143996]}], \"f1_score_micro\": [{\"categories\": [\"1\", \"2\", \"3\", \"4\", \"5\", \"6\", \"7\", \"8\", \"9\", \"10\", \"11\", \"12\", \"13\", \"14\", \"15\", \"16\", \"17\", \"19\"], \"mode\": \"markers\", \"name\": \"f1_score_micro\", \"stepped\": false, \"type\": \"scatter\", \"data\": [0.9995081486214392, 0.9983224344569664, 0.9983224344569664, 0.9983224344569664, 0.9983224344569664, 0.9983224344569664, 0.9803873716412794, 0.959075349257836, 0.9652059258175747, 0.9983224344569664, 0.9907558250560387, 0.9983224344569664, 0.9812218060908845, 0.9993851855309072, 0.9701155664379658, 0.9983224344569664, 0.9983224344569664, 0.9995125400756676]}, {\"categories\": [\"1\", \"2\", \"3\", \"4\", \"5\", \"6\", \"7\", \"8\", \"9\", \"10\", \"11\", \"12\", \"13\", \"14\", \"15\", \"16\", \"17\", \"19\"], \"mode\": \"lines\", \"name\": \"f1_score_micro_max\", \"stepped\": true, \"type\": \"scatter\", \"data\": [0.9995081486214392, 0.9995081486214392, 0.9995081486214392, 0.9995081486214392, 0.9995081486214392, 0.9995081486214392, 0.9995081486214392, 0.9995081486214392, 0.9995081486214392, 0.9995081486214392, 0.9995081486214392, 0.9995081486214392, 0.9995081486214392, 0.9995081486214392, 0.9995081486214392, 0.9995081486214392, 0.9995081486214392, 0.9995125400756676]}]}, \"metricName\": null, \"primaryMetricName\": \"average_precision_score_weighted\", \"showLegend\": false}, \"run_metrics\": [{\"name\": \"experiment_status\", \"run_id\": \"AutoML_0383254c-2fd0-4768-a7d3-9020579a90bd\", \"categories\": [0, 1, 2, 3, 4, 5, 6, 7, 8, 9, 10, 11, 12, 13, 14], \"series\": [{\"data\": [\"DatasetEvaluation\", \"FeaturesGeneration\", \"DatasetFeaturization\", \"DatasetFeaturizationCompleted\", \"DatasetBalancing\", \"DatasetCrossValidationSplit\", \"ModelSelection\", \"BestRunExplainModel\", \"ModelExplanationDataSetSetup\", \"PickSurrogateModel\", \"EngineeredFeatureExplanations\", \"EngineeredFeatureExplanations\", \"RawFeaturesExplanations\", \"RawFeaturesExplanations\", \"BestRunExplainModel\"]}]}, {\"name\": \"experiment_status_description\", \"run_id\": \"AutoML_0383254c-2fd0-4768-a7d3-9020579a90bd\", \"categories\": [0, 1, 2, 3, 4, 5, 6, 7, 8, 9, 10, 11, 12, 13, 14], \"series\": [{\"data\": [\"Gathering dataset statistics.\", \"Generating features for the dataset.\", \"Beginning to fit featurizers and featurize the dataset.\", \"Completed fit featurizers and featurizing the dataset.\", \"Performing class balancing sweeping\", \"Generating individually featurized CV splits.\", \"Beginning model selection.\", \"Best run model explanations started\", \"Model explanations data setup completed\", \"Choosing LightGBM as the surrogate model for explanations\", \"Computation of engineered features started\", \"Computation of engineered features completed\", \"Computation of raw features started\", \"Computation of raw features completed\", \"Best run model explanations completed\"]}]}], \"run_logs\": \"\\nRun is completed.\", \"graph\": {}, \"widget_settings\": {\"childWidgetDisplay\": \"popup\", \"send_telemetry\": false, \"log_level\": \"INFO\", \"sdk_version\": \"1.28.0\"}, \"loading\": false}"
     },
     "metadata": {},
     "output_type": "display_data"
    },
    {
     "name": "stderr",
     "output_type": "stream",
     "text": [
      "Class SynapseCompute: This is an experimental class, and may change at any time. Please see https://aka.ms/azuremlexperimental for more information.\n"
     ]
    }
   ],
   "source": [
    "from azureml.widgets import RunDetails\n",
    "RunDetails(remote_run).show()"
   ]
  },
  {
   "cell_type": "code",
   "execution_count": 14,
   "id": "c36a6033",
   "metadata": {},
   "outputs": [
    {
     "name": "stderr",
     "output_type": "stream",
     "text": [
      "Class SynapseCompute: This is an experimental class, and may change at any time. Please see https://aka.ms/azuremlexperimental for more information.\n",
      "Class SynapseCompute: This is an experimental class, and may change at any time. Please see https://aka.ms/azuremlexperimental for more information.\n",
      "Class SynapseCompute: This is an experimental class, and may change at any time. Please see https://aka.ms/azuremlexperimental for more information.\n",
      "Class SynapseCompute: This is an experimental class, and may change at any time. Please see https://aka.ms/azuremlexperimental for more information.\n",
      "Class SynapseCompute: This is an experimental class, and may change at any time. Please see https://aka.ms/azuremlexperimental for more information.\n",
      "Class SynapseCompute: This is an experimental class, and may change at any time. Please see https://aka.ms/azuremlexperimental for more information.\n",
      "Class SynapseCompute: This is an experimental class, and may change at any time. Please see https://aka.ms/azuremlexperimental for more information.\n",
      "Class SynapseCompute: This is an experimental class, and may change at any time. Please see https://aka.ms/azuremlexperimental for more information.\n",
      "Class SynapseCompute: This is an experimental class, and may change at any time. Please see https://aka.ms/azuremlexperimental for more information.\n",
      "Class SynapseCompute: This is an experimental class, and may change at any time. Please see https://aka.ms/azuremlexperimental for more information.\n",
      "Class SynapseCompute: This is an experimental class, and may change at any time. Please see https://aka.ms/azuremlexperimental for more information.\n",
      "Class SynapseCompute: This is an experimental class, and may change at any time. Please see https://aka.ms/azuremlexperimental for more information.\n",
      "Class SynapseCompute: This is an experimental class, and may change at any time. Please see https://aka.ms/azuremlexperimental for more information.\n",
      "Class SynapseCompute: This is an experimental class, and may change at any time. Please see https://aka.ms/azuremlexperimental for more information.\n",
      "Class SynapseCompute: This is an experimental class, and may change at any time. Please see https://aka.ms/azuremlexperimental for more information.\n",
      "Class SynapseCompute: This is an experimental class, and may change at any time. Please see https://aka.ms/azuremlexperimental for more information.\n",
      "Class SynapseCompute: This is an experimental class, and may change at any time. Please see https://aka.ms/azuremlexperimental for more information.\n",
      "Class SynapseCompute: This is an experimental class, and may change at any time. Please see https://aka.ms/azuremlexperimental for more information.\n",
      "Class SynapseCompute: This is an experimental class, and may change at any time. Please see https://aka.ms/azuremlexperimental for more information.\n",
      "Class SynapseCompute: This is an experimental class, and may change at any time. Please see https://aka.ms/azuremlexperimental for more information.\n",
      "Class SynapseCompute: This is an experimental class, and may change at any time. Please see https://aka.ms/azuremlexperimental for more information.\n",
      "Class SynapseCompute: This is an experimental class, and may change at any time. Please see https://aka.ms/azuremlexperimental for more information.\n",
      "Class SynapseCompute: This is an experimental class, and may change at any time. Please see https://aka.ms/azuremlexperimental for more information.\n",
      "Class SynapseCompute: This is an experimental class, and may change at any time. Please see https://aka.ms/azuremlexperimental for more information.\n",
      "Class SynapseCompute: This is an experimental class, and may change at any time. Please see https://aka.ms/azuremlexperimental for more information.\n",
      "Class SynapseCompute: This is an experimental class, and may change at any time. Please see https://aka.ms/azuremlexperimental for more information.\n",
      "Class SynapseCompute: This is an experimental class, and may change at any time. Please see https://aka.ms/azuremlexperimental for more information.\n",
      "Class SynapseCompute: This is an experimental class, and may change at any time. Please see https://aka.ms/azuremlexperimental for more information.\n",
      "Class SynapseCompute: This is an experimental class, and may change at any time. Please see https://aka.ms/azuremlexperimental for more information.\n",
      "Class SynapseCompute: This is an experimental class, and may change at any time. Please see https://aka.ms/azuremlexperimental for more information.\n",
      "Class SynapseCompute: This is an experimental class, and may change at any time. Please see https://aka.ms/azuremlexperimental for more information.\n",
      "Class SynapseCompute: This is an experimental class, and may change at any time. Please see https://aka.ms/azuremlexperimental for more information.\n",
      "Class SynapseCompute: This is an experimental class, and may change at any time. Please see https://aka.ms/azuremlexperimental for more information.\n",
      "Class SynapseCompute: This is an experimental class, and may change at any time. Please see https://aka.ms/azuremlexperimental for more information.\n",
      "Class SynapseCompute: This is an experimental class, and may change at any time. Please see https://aka.ms/azuremlexperimental for more information.\n"
     ]
    },
    {
     "data": {
      "text/plain": [
       "{'runId': 'AutoML_0383254c-2fd0-4768-a7d3-9020579a90bd',\n",
       " 'target': 'cpu-cluster',\n",
       " 'status': 'Completed',\n",
       " 'startTimeUtc': '2021-05-27T18:57:03.114044Z',\n",
       " 'endTimeUtc': '2021-05-27T19:22:09.844113Z',\n",
       " 'properties': {'num_iterations': '1000',\n",
       "  'training_type': 'TrainFull',\n",
       "  'acquisition_function': 'EI',\n",
       "  'primary_metric': 'average_precision_score_weighted',\n",
       "  'train_split': '0',\n",
       "  'acquisition_parameter': '0',\n",
       "  'num_cross_validation': '3',\n",
       "  'target': 'cpu-cluster',\n",
       "  'AMLSettingsJsonString': '{\"path\":null,\"name\":\"automl-classification-ccard-remote\",\"subscription_id\":\"c46a9435-c957-4e6c-a0f4-b9a597984773\",\"resource_group\":\"mlops\",\"workspace_name\":\"mlopsdev\",\"region\":\"centralus\",\"compute_target\":\"cpu-cluster\",\"spark_service\":null,\"azure_service\":\"remote\",\"many_models\":false,\"pipeline_fetch_max_batch_size\":1,\"enable_batch_run\":false,\"enable_run_restructure\":false,\"start_auxiliary_runs_before_parent_complete\":false,\"enable_code_generation\":false,\"iterations\":1000,\"primary_metric\":\"average_precision_score_weighted\",\"task_type\":\"classification\",\"data_script\":null,\"test_size\":0.0,\"validation_size\":0.0,\"n_cross_validations\":3,\"y_min\":null,\"y_max\":null,\"num_classes\":null,\"featurization\":\"auto\",\"_ignore_package_version_incompatibilities\":false,\"is_timeseries\":false,\"max_cores_per_iteration\":1,\"max_concurrent_iterations\":2,\"iteration_timeout_minutes\":null,\"mem_in_mb\":null,\"enforce_time_on_windows\":false,\"experiment_timeout_minutes\":15,\"experiment_exit_score\":null,\"whitelist_models\":null,\"blacklist_algos\":[\"TensorFlowLinearClassifier\",\"TensorFlowDNN\"],\"supported_models\":[\"ExtremeRandomTrees\",\"XGBoostClassifier\",\"LinearSVM\",\"TensorFlowLinearClassifier\",\"KNN\",\"LogisticRegression\",\"RandomForest\",\"BernoulliNaiveBayes\",\"AveragedPerceptronClassifier\",\"GradientBoosting\",\"MultinomialNaiveBayes\",\"SGD\",\"TensorFlowDNN\",\"LightGBM\",\"SVM\",\"DecisionTree\"],\"private_models\":[],\"auto_blacklist\":true,\"blacklist_samples_reached\":false,\"exclude_nan_labels\":true,\"verbosity\":20,\"_debug_log\":\"azureml_automl.log\",\"show_warnings\":false,\"model_explainability\":true,\"service_url\":null,\"sdk_url\":null,\"sdk_packages\":null,\"enable_onnx_compatible_models\":false,\"enable_split_onnx_featurizer_estimator_models\":false,\"vm_type\":\"STANDARD_F16S_V2\",\"telemetry_verbosity\":20,\"send_telemetry\":true,\"enable_dnn\":false,\"scenario\":\"SDK-1.13.0\",\"environment_label\":null,\"save_mlflow\":false,\"force_text_dnn\":false,\"enable_feature_sweeping\":true,\"enable_early_stopping\":true,\"early_stopping_n_iters\":10,\"metrics\":null,\"enable_metric_confidence\":false,\"enable_ensembling\":true,\"enable_stack_ensembling\":true,\"ensemble_iterations\":15,\"enable_tf\":false,\"enable_subsampling\":null,\"subsample_seed\":null,\"enable_nimbusml\":false,\"enable_streaming\":false,\"force_streaming\":false,\"track_child_runs\":true,\"allowed_private_models\":[],\"label_column_name\":\"Class\",\"weight_column_name\":null,\"cv_split_column_names\":null,\"enable_local_managed\":false,\"_local_managed_run_id\":null,\"cost_mode\":1,\"lag_length\":0,\"metric_operation\":\"maximize\",\"preprocess\":true}',\n",
       "  'DataPrepJsonString': '{\\\\\"training_data\\\\\": {\\\\\"datasetId\\\\\": \\\\\"3e4e1c3b-a6c9-4811-b5af-32285df2aad2\\\\\"}, \\\\\"datasets\\\\\": 0}',\n",
       "  'EnableSubsampling': None,\n",
       "  'runTemplate': 'AutoML',\n",
       "  'azureml.runsource': 'automl',\n",
       "  'display_task_type': 'classification',\n",
       "  'dependencies_versions': '{\"azureml-widgets\": \"1.26.0\", \"azureml-train\": \"1.28.0\", \"azureml-train-restclients-hyperdrive\": \"1.28.0\", \"azureml-train-core\": \"1.28.0\", \"azureml-train-automl\": \"1.28.0\", \"azureml-train-automl-runtime\": \"1.28.0\", \"azureml-train-automl-client\": \"1.28.0\", \"azureml-tensorboard\": \"1.26.0\", \"azureml-telemetry\": \"1.28.0\", \"azureml-sdk\": \"1.28.0\", \"azureml-samples\": \"0+unknown\", \"azureml-pipeline\": \"1.28.0\", \"azureml-pipeline-steps\": \"1.28.0\", \"azureml-pipeline-core\": \"1.28.0\", \"azureml-opendatasets\": \"1.26.0\", \"azureml-model-management-sdk\": \"1.0.1b6.post1\", \"azureml-mlflow\": \"1.26.0\", \"azureml-interpret\": \"1.28.0\", \"azureml-explain-model\": \"1.26.0\", \"azureml-defaults\": \"1.28.0\", \"azureml-dataset-runtime\": \"1.28.0\", \"azureml-dataprep\": \"2.15.0\", \"azureml-dataprep-rslex\": \"1.13.0\", \"azureml-dataprep-native\": \"33.0.0\", \"azureml-datadrift\": \"1.28.0\", \"azureml-core\": \"1.28.0\", \"azureml-contrib-services\": \"1.26.0\", \"azureml-contrib-server\": \"1.26.0\", \"azureml-contrib-reinforcementlearning\": \"1.26.0\", \"azureml-contrib-pipeline-steps\": \"1.28.0\", \"azureml-contrib-notebook\": \"1.26.0\", \"azureml-contrib-gbdt\": \"1.26.0\", \"azureml-contrib-fairness\": \"1.26.0\", \"azureml-contrib-dataset\": \"1.26.0\", \"azureml-cli-common\": \"1.28.0\", \"azureml-automl-runtime\": \"1.28.0.post2\", \"azureml-automl-dnn-nlp\": \"1.26.0\", \"azureml-automl-core\": \"1.28.0\", \"azureml-accel-models\": \"1.26.0\"}',\n",
       "  '_aml_system_scenario_identification': 'Remote.Parent',\n",
       "  'ClientType': 'SDK',\n",
       "  'environment_cpu_name': 'AzureML-AutoML',\n",
       "  'environment_cpu_label': 'prod',\n",
       "  'environment_gpu_name': 'AzureML-AutoML-GPU',\n",
       "  'environment_gpu_label': 'prod',\n",
       "  'root_attribution': 'automl',\n",
       "  'attribution': 'AutoML',\n",
       "  'Orchestrator': 'AutoML',\n",
       "  'CancelUri': 'https://centralus.api.azureml.ms/jasmine/v1.0/subscriptions/c46a9435-c957-4e6c-a0f4-b9a597984773/resourceGroups/mlops/providers/Microsoft.MachineLearningServices/workspaces/mlopsdev/experimentids/d60b7c37-2ebd-40ee-bfea-41d93dce2337/cancel/AutoML_0383254c-2fd0-4768-a7d3-9020579a90bd',\n",
       "  'ClientSdkVersion': '1.28.0',\n",
       "  'snapshotId': '00000000-0000-0000-0000-000000000000',\n",
       "  'SetupRunId': 'AutoML_0383254c-2fd0-4768-a7d3-9020579a90bd_setup',\n",
       "  'SetupRunContainerId': 'dcid.AutoML_0383254c-2fd0-4768-a7d3-9020579a90bd_setup',\n",
       "  'FeaturizationRunJsonPath': 'featurizer_container.json',\n",
       "  'FeaturizationRunId': 'AutoML_0383254c-2fd0-4768-a7d3-9020579a90bd_featurize',\n",
       "  'ProblemInfoJsonString': '{\"dataset_num_categorical\": 0, \"is_sparse\": false, \"subsampling\": false, \"has_extra_col\": true, \"dataset_classes\": 2, \"dataset_features\": 30, \"dataset_samples\": 227711, \"single_frequency_class_detected\": false}',\n",
       "  'ModelExplainRunId': 'AutoML_0383254c-2fd0-4768-a7d3-9020579a90bd_ModelExplain'},\n",
       " 'inputDatasets': [{'dataset': {'id': '3e4e1c3b-a6c9-4811-b5af-32285df2aad2'}, 'consumptionDetails': {'type': 'RunInput', 'inputName': 'training_data', 'mechanism': 'Direct'}}],\n",
       " 'outputDatasets': [],\n",
       " 'logFiles': {},\n",
       " 'submittedBy': 'Balamurugan Balakreshnan'}"
      ]
     },
     "execution_count": 14,
     "metadata": {},
     "output_type": "execute_result"
    }
   ],
   "source": [
    "remote_run.wait_for_completion(show_output=False)"
   ]
  },
  {
   "cell_type": "code",
   "execution_count": 16,
   "id": "ebdc9d3b",
   "metadata": {},
   "outputs": [
    {
     "data": {
      "text/plain": [
       "PipelineWithYTransformations(Pipeline={'memory': None,\n",
       "                                       'steps': [('datatransformer',\n",
       "                                                  DataTransformer(enable_dnn=False, enable_feature_sweeping=True, feature_sweeping_config={}, feature_sweeping_timeout=86400, featurization_config=None, force_text_dnn=False, is_cross_validation=True, is_onnx_compatible=False, observer=None, task='classification', working_dir='/mn...\n",
       "    iteration_timeout_mode=0,\n",
       "    iteration_timeout_param=None,\n",
       "    feature_column_names=None,\n",
       "    label_column_name=None,\n",
       "    weight_column_name=None,\n",
       "    cv_split_column_names=None,\n",
       "    enable_streaming=None,\n",
       "    timeseries_param_dict=None,\n",
       "    gpu_training_param_dict={'processing_unit_type': 'cpu'}\n",
       "), random_state=0, tree_method='auto'))],\n",
       "                                       'verbose': False},\n",
       "                             y_transformer={},\n",
       "                             y_transformer_name='LabelEncoder')"
      ]
     },
     "execution_count": 16,
     "metadata": {},
     "output_type": "execute_result"
    },
    {
     "name": "stderr",
     "output_type": "stream",
     "text": [
      "WARNING:azureml._base_sdk_common._docstring_wrapper:Class SynapseCompute: This is an experimental class, and may change at any time. Please see https://aka.ms/azuremlexperimental for more information.\n"
     ]
    }
   ],
   "source": [
    "best_run, fitted_model = remote_run.get_output()\n",
    "fitted_model"
   ]
  },
  {
   "cell_type": "code",
   "execution_count": 17,
   "id": "2c4c7de3",
   "metadata": {},
   "outputs": [],
   "source": [
    "# convert the test data to dataframe\n",
    "X_test_df = validation_data.drop_columns(columns=[label_column_name]).to_pandas_dataframe()\n",
    "y_test_df = validation_data.keep_columns(columns=[label_column_name], validate=True).to_pandas_dataframe()"
   ]
  },
  {
   "cell_type": "code",
   "execution_count": 18,
   "id": "8f35f23d",
   "metadata": {},
   "outputs": [
    {
     "data": {
      "text/plain": [
       "array([False, False, False, ..., False, False, False])"
      ]
     },
     "execution_count": 18,
     "metadata": {},
     "output_type": "execute_result"
    },
    {
     "name": "stderr",
     "output_type": "stream",
     "text": [
      "WARNING:azureml._base_sdk_common._docstring_wrapper:Class SynapseCompute: This is an experimental class, and may change at any time. Please see https://aka.ms/azuremlexperimental for more information.\n"
     ]
    }
   ],
   "source": [
    "# call the predict functions on the model\n",
    "y_pred = fitted_model.predict(X_test_df)\n",
    "y_pred"
   ]
  },
  {
   "cell_type": "code",
   "execution_count": null,
   "id": "fe8654b3",
   "metadata": {},
   "outputs": [],
   "source": []
  }
 ],
 "metadata": {
  "kernelspec": {
   "display_name": "Python 3.6 - AzureML",
   "language": "python",
   "name": "python3-azureml"
  },
  "language_info": {
   "codemirror_mode": {
    "name": "ipython",
    "version": 3
   },
   "file_extension": ".py",
   "mimetype": "text/x-python",
   "name": "python",
   "nbconvert_exporter": "python",
   "pygments_lexer": "ipython3",
   "version": "3.6.9"
  }
 },
 "nbformat": 4,
 "nbformat_minor": 5
}
