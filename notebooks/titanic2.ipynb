{
  "cells": [
    {
      "cell_type": "code",
      "source": [
        "import functools\n",
        "import numpy as np\n",
        "import tensorflow as tf\n",
        "import pandas as pd\n",
        "from tensorflow import feature_column\n",
        "from tensorflow.keras import layers\n",
        "from sklearn.model_selection import train_test_split\n",
        "import pprint\n",
        "import tensorflow_model_analysis as tfma\n",
        "from google.protobuf import text_format"
      ],
      "outputs": [],
      "execution_count": 1,
      "metadata": {},
      "id": "d2484753"
    },
    {
      "cell_type": "code",
      "source": [
        "print(tf.__version__)"
      ],
      "outputs": [
        {
          "output_type": "stream",
          "name": "stdout",
          "text": [
            "2.4.1\n"
          ]
        }
      ],
      "execution_count": 2,
      "metadata": {},
      "id": "8e85b9f3"
    },
    {
      "cell_type": "code",
      "source": [
        "TRAIN_DATA_URL = \"https://storage.googleapis.com/tf-datasets/titanic/train.csv\"\n",
        "TEST_DATA_URL = \"https://storage.googleapis.com/tf-datasets/titanic/eval.csv\"\n",
        "\n",
        "train_file_path = tf.keras.utils.get_file(\"train.csv\", TRAIN_DATA_URL)\n",
        "test_file_path = tf.keras.utils.get_file(\"eval.csv\", TEST_DATA_URL)"
      ],
      "outputs": [],
      "execution_count": 3,
      "metadata": {},
      "id": "4b5d28d2"
    },
    {
      "cell_type": "code",
      "source": [
        "!head {train_file_path}"
      ],
      "outputs": [
        {
          "output_type": "stream",
          "name": "stdout",
          "text": [
            "survived,sex,age,n_siblings_spouses,parch,fare,class,deck,embark_town,alone\r\n",
            "0,male,22.0,1,0,7.25,Third,unknown,Southampton,n\r\n",
            "1,female,38.0,1,0,71.2833,First,C,Cherbourg,n\r\n",
            "1,female,26.0,0,0,7.925,Third,unknown,Southampton,y\r\n",
            "1,female,35.0,1,0,53.1,First,C,Southampton,n\r\n",
            "0,male,28.0,0,0,8.4583,Third,unknown,Queenstown,y\r\n",
            "0,male,2.0,3,1,21.075,Third,unknown,Southampton,n\r\n",
            "1,female,27.0,0,2,11.1333,Third,unknown,Southampton,n\r\n",
            "1,female,14.0,1,0,30.0708,Second,unknown,Cherbourg,n\r\n",
            "1,female,4.0,1,1,16.7,Third,G,Southampton,n\r\n"
          ]
        }
      ],
      "execution_count": 4,
      "metadata": {},
      "id": "5f9a519a"
    },
    {
      "cell_type": "code",
      "source": [
        "train_df = pd.read_csv(train_file_path, header='infer')\n",
        "test_df = pd.read_csv(test_file_path, header='infer')\n",
        "train_df.dropna()\n",
        "test_df.dropna()"
      ],
      "outputs": [
        {
          "output_type": "execute_result",
          "execution_count": 5,
          "data": {
            "text/html": "<div>\n<style scoped>\n    .dataframe tbody tr th:only-of-type {\n        vertical-align: middle;\n    }\n\n    .dataframe tbody tr th {\n        vertical-align: top;\n    }\n\n    .dataframe thead th {\n        text-align: right;\n    }\n</style>\n<table border=\"1\" class=\"dataframe\">\n  <thead>\n    <tr style=\"text-align: right;\">\n      <th></th>\n      <th>survived</th>\n      <th>sex</th>\n      <th>age</th>\n      <th>n_siblings_spouses</th>\n      <th>parch</th>\n      <th>fare</th>\n      <th>class</th>\n      <th>deck</th>\n      <th>embark_town</th>\n      <th>alone</th>\n    </tr>\n  </thead>\n  <tbody>\n    <tr>\n      <th>0</th>\n      <td>0</td>\n      <td>male</td>\n      <td>35.0</td>\n      <td>0</td>\n      <td>0</td>\n      <td>8.0500</td>\n      <td>Third</td>\n      <td>unknown</td>\n      <td>Southampton</td>\n      <td>y</td>\n    </tr>\n    <tr>\n      <th>1</th>\n      <td>0</td>\n      <td>male</td>\n      <td>54.0</td>\n      <td>0</td>\n      <td>0</td>\n      <td>51.8625</td>\n      <td>First</td>\n      <td>E</td>\n      <td>Southampton</td>\n      <td>y</td>\n    </tr>\n    <tr>\n      <th>2</th>\n      <td>1</td>\n      <td>female</td>\n      <td>58.0</td>\n      <td>0</td>\n      <td>0</td>\n      <td>26.5500</td>\n      <td>First</td>\n      <td>C</td>\n      <td>Southampton</td>\n      <td>y</td>\n    </tr>\n    <tr>\n      <th>3</th>\n      <td>1</td>\n      <td>female</td>\n      <td>55.0</td>\n      <td>0</td>\n      <td>0</td>\n      <td>16.0000</td>\n      <td>Second</td>\n      <td>unknown</td>\n      <td>Southampton</td>\n      <td>y</td>\n    </tr>\n    <tr>\n      <th>4</th>\n      <td>1</td>\n      <td>male</td>\n      <td>34.0</td>\n      <td>0</td>\n      <td>0</td>\n      <td>13.0000</td>\n      <td>Second</td>\n      <td>D</td>\n      <td>Southampton</td>\n      <td>y</td>\n    </tr>\n    <tr>\n      <th>...</th>\n      <td>...</td>\n      <td>...</td>\n      <td>...</td>\n      <td>...</td>\n      <td>...</td>\n      <td>...</td>\n      <td>...</td>\n      <td>...</td>\n      <td>...</td>\n      <td>...</td>\n    </tr>\n    <tr>\n      <th>259</th>\n      <td>1</td>\n      <td>female</td>\n      <td>25.0</td>\n      <td>0</td>\n      <td>1</td>\n      <td>26.0000</td>\n      <td>Second</td>\n      <td>unknown</td>\n      <td>Southampton</td>\n      <td>n</td>\n    </tr>\n    <tr>\n      <th>260</th>\n      <td>0</td>\n      <td>male</td>\n      <td>33.0</td>\n      <td>0</td>\n      <td>0</td>\n      <td>7.8958</td>\n      <td>Third</td>\n      <td>unknown</td>\n      <td>Southampton</td>\n      <td>y</td>\n    </tr>\n    <tr>\n      <th>261</th>\n      <td>0</td>\n      <td>female</td>\n      <td>39.0</td>\n      <td>0</td>\n      <td>5</td>\n      <td>29.1250</td>\n      <td>Third</td>\n      <td>unknown</td>\n      <td>Queenstown</td>\n      <td>n</td>\n    </tr>\n    <tr>\n      <th>262</th>\n      <td>0</td>\n      <td>male</td>\n      <td>27.0</td>\n      <td>0</td>\n      <td>0</td>\n      <td>13.0000</td>\n      <td>Second</td>\n      <td>unknown</td>\n      <td>Southampton</td>\n      <td>y</td>\n    </tr>\n    <tr>\n      <th>263</th>\n      <td>1</td>\n      <td>male</td>\n      <td>26.0</td>\n      <td>0</td>\n      <td>0</td>\n      <td>30.0000</td>\n      <td>First</td>\n      <td>C</td>\n      <td>Cherbourg</td>\n      <td>y</td>\n    </tr>\n  </tbody>\n</table>\n<p>264 rows × 10 columns</p>\n</div>",
            "text/plain": "     survived     sex   age  n_siblings_spouses  parch     fare   class  \\\n0           0    male  35.0                   0      0   8.0500   Third   \n1           0    male  54.0                   0      0  51.8625   First   \n2           1  female  58.0                   0      0  26.5500   First   \n3           1  female  55.0                   0      0  16.0000  Second   \n4           1    male  34.0                   0      0  13.0000  Second   \n..        ...     ...   ...                 ...    ...      ...     ...   \n259         1  female  25.0                   0      1  26.0000  Second   \n260         0    male  33.0                   0      0   7.8958   Third   \n261         0  female  39.0                   0      5  29.1250   Third   \n262         0    male  27.0                   0      0  13.0000  Second   \n263         1    male  26.0                   0      0  30.0000   First   \n\n        deck  embark_town alone  \n0    unknown  Southampton     y  \n1          E  Southampton     y  \n2          C  Southampton     y  \n3    unknown  Southampton     y  \n4          D  Southampton     y  \n..       ...          ...   ...  \n259  unknown  Southampton     n  \n260  unknown  Southampton     y  \n261  unknown   Queenstown     n  \n262  unknown  Southampton     y  \n263        C    Cherbourg     y  \n\n[264 rows x 10 columns]"
          },
          "metadata": {}
        }
      ],
      "execution_count": 5,
      "metadata": {},
      "id": "dac0ea49"
    },
    {
      "cell_type": "code",
      "source": [
        "train_df"
      ],
      "outputs": [
        {
          "output_type": "execute_result",
          "execution_count": 6,
          "data": {
            "text/html": "<div>\n<style scoped>\n    .dataframe tbody tr th:only-of-type {\n        vertical-align: middle;\n    }\n\n    .dataframe tbody tr th {\n        vertical-align: top;\n    }\n\n    .dataframe thead th {\n        text-align: right;\n    }\n</style>\n<table border=\"1\" class=\"dataframe\">\n  <thead>\n    <tr style=\"text-align: right;\">\n      <th></th>\n      <th>survived</th>\n      <th>sex</th>\n      <th>age</th>\n      <th>n_siblings_spouses</th>\n      <th>parch</th>\n      <th>fare</th>\n      <th>class</th>\n      <th>deck</th>\n      <th>embark_town</th>\n      <th>alone</th>\n    </tr>\n  </thead>\n  <tbody>\n    <tr>\n      <th>0</th>\n      <td>0</td>\n      <td>male</td>\n      <td>22.0</td>\n      <td>1</td>\n      <td>0</td>\n      <td>7.2500</td>\n      <td>Third</td>\n      <td>unknown</td>\n      <td>Southampton</td>\n      <td>n</td>\n    </tr>\n    <tr>\n      <th>1</th>\n      <td>1</td>\n      <td>female</td>\n      <td>38.0</td>\n      <td>1</td>\n      <td>0</td>\n      <td>71.2833</td>\n      <td>First</td>\n      <td>C</td>\n      <td>Cherbourg</td>\n      <td>n</td>\n    </tr>\n    <tr>\n      <th>2</th>\n      <td>1</td>\n      <td>female</td>\n      <td>26.0</td>\n      <td>0</td>\n      <td>0</td>\n      <td>7.9250</td>\n      <td>Third</td>\n      <td>unknown</td>\n      <td>Southampton</td>\n      <td>y</td>\n    </tr>\n    <tr>\n      <th>3</th>\n      <td>1</td>\n      <td>female</td>\n      <td>35.0</td>\n      <td>1</td>\n      <td>0</td>\n      <td>53.1000</td>\n      <td>First</td>\n      <td>C</td>\n      <td>Southampton</td>\n      <td>n</td>\n    </tr>\n    <tr>\n      <th>4</th>\n      <td>0</td>\n      <td>male</td>\n      <td>28.0</td>\n      <td>0</td>\n      <td>0</td>\n      <td>8.4583</td>\n      <td>Third</td>\n      <td>unknown</td>\n      <td>Queenstown</td>\n      <td>y</td>\n    </tr>\n    <tr>\n      <th>...</th>\n      <td>...</td>\n      <td>...</td>\n      <td>...</td>\n      <td>...</td>\n      <td>...</td>\n      <td>...</td>\n      <td>...</td>\n      <td>...</td>\n      <td>...</td>\n      <td>...</td>\n    </tr>\n    <tr>\n      <th>622</th>\n      <td>0</td>\n      <td>male</td>\n      <td>28.0</td>\n      <td>0</td>\n      <td>0</td>\n      <td>10.5000</td>\n      <td>Second</td>\n      <td>unknown</td>\n      <td>Southampton</td>\n      <td>y</td>\n    </tr>\n    <tr>\n      <th>623</th>\n      <td>0</td>\n      <td>male</td>\n      <td>25.0</td>\n      <td>0</td>\n      <td>0</td>\n      <td>7.0500</td>\n      <td>Third</td>\n      <td>unknown</td>\n      <td>Southampton</td>\n      <td>y</td>\n    </tr>\n    <tr>\n      <th>624</th>\n      <td>1</td>\n      <td>female</td>\n      <td>19.0</td>\n      <td>0</td>\n      <td>0</td>\n      <td>30.0000</td>\n      <td>First</td>\n      <td>B</td>\n      <td>Southampton</td>\n      <td>y</td>\n    </tr>\n    <tr>\n      <th>625</th>\n      <td>0</td>\n      <td>female</td>\n      <td>28.0</td>\n      <td>1</td>\n      <td>2</td>\n      <td>23.4500</td>\n      <td>Third</td>\n      <td>unknown</td>\n      <td>Southampton</td>\n      <td>n</td>\n    </tr>\n    <tr>\n      <th>626</th>\n      <td>0</td>\n      <td>male</td>\n      <td>32.0</td>\n      <td>0</td>\n      <td>0</td>\n      <td>7.7500</td>\n      <td>Third</td>\n      <td>unknown</td>\n      <td>Queenstown</td>\n      <td>y</td>\n    </tr>\n  </tbody>\n</table>\n<p>627 rows × 10 columns</p>\n</div>",
            "text/plain": "     survived     sex   age  n_siblings_spouses  parch     fare   class  \\\n0           0    male  22.0                   1      0   7.2500   Third   \n1           1  female  38.0                   1      0  71.2833   First   \n2           1  female  26.0                   0      0   7.9250   Third   \n3           1  female  35.0                   1      0  53.1000   First   \n4           0    male  28.0                   0      0   8.4583   Third   \n..        ...     ...   ...                 ...    ...      ...     ...   \n622         0    male  28.0                   0      0  10.5000  Second   \n623         0    male  25.0                   0      0   7.0500   Third   \n624         1  female  19.0                   0      0  30.0000   First   \n625         0  female  28.0                   1      2  23.4500   Third   \n626         0    male  32.0                   0      0   7.7500   Third   \n\n        deck  embark_town alone  \n0    unknown  Southampton     n  \n1          C    Cherbourg     n  \n2    unknown  Southampton     y  \n3          C  Southampton     n  \n4    unknown   Queenstown     y  \n..       ...          ...   ...  \n622  unknown  Southampton     y  \n623  unknown  Southampton     y  \n624        B  Southampton     y  \n625  unknown  Southampton     n  \n626  unknown   Queenstown     y  \n\n[627 rows x 10 columns]"
          },
          "metadata": {}
        }
      ],
      "execution_count": 6,
      "metadata": {},
      "id": "ba1612c5"
    },
    {
      "cell_type": "code",
      "source": [
        "LABEL_COLUMN = 'survived'\n",
        "LABELS = [0, 1]\n",
        "\n",
        "train_ds = tf.data.experimental.make_csv_dataset(\n",
        "      train_file_path,\n",
        "      batch_size=3,\n",
        "      label_name=LABEL_COLUMN,\n",
        "      na_value=\"?\",\n",
        "      num_epochs=1,\n",
        "      ignore_errors=True)"
      ],
      "outputs": [],
      "execution_count": 7,
      "metadata": {},
      "id": "ce6976a1"
    },
    {
      "cell_type": "code",
      "source": [
        "test_ds = tf.data.experimental.make_csv_dataset(\n",
        "      test_file_path,\n",
        "      batch_size=3,\n",
        "      label_name=LABEL_COLUMN,\n",
        "      na_value=\"?\",\n",
        "      num_epochs=1,\n",
        "      ignore_errors=True)"
      ],
      "outputs": [],
      "execution_count": 8,
      "metadata": {},
      "id": "24102e4f"
    },
    {
      "cell_type": "code",
      "source": [
        "for batch, label in train_ds.take(1):\n",
        "  print(label)\n",
        "  for key, value in batch.items():\n",
        "    print(\"{}: {}\".format(key,value.numpy()))"
      ],
      "outputs": [
        {
          "output_type": "stream",
          "name": "stdout",
          "text": [
            "tf.Tensor([1 1 0], shape=(3,), dtype=int32)\n",
            "sex: [b'female' b'male' b'male']\n",
            "age: [31. 45. 29.]\n",
            "n_siblings_spouses: [1 0 1]\n",
            "parch: [1 0 0]\n",
            "fare: [26.25   26.55   27.7208]\n",
            "class: [b'Second' b'First' b'Second']\n",
            "deck: [b'unknown' b'unknown' b'unknown']\n",
            "embark_town: [b'Southampton' b'Southampton' b'Cherbourg']\n",
            "alone: [b'n' b'y' b'n']\n"
          ]
        }
      ],
      "execution_count": 9,
      "metadata": {},
      "id": "59f1c330"
    },
    {
      "cell_type": "code",
      "source": [
        "feature_columns = []\n",
        "\n",
        "# numeric cols\n",
        "for header in ['age', 'n_siblings_spouses', 'parch', 'fare']:\n",
        "  feature_columns.append(feature_column.numeric_column(header))"
      ],
      "outputs": [],
      "execution_count": 10,
      "metadata": {},
      "id": "e6607273"
    },
    {
      "cell_type": "code",
      "source": [
        "train_df.describe()"
      ],
      "outputs": [
        {
          "output_type": "execute_result",
          "execution_count": 11,
          "data": {
            "text/html": "<div>\n<style scoped>\n    .dataframe tbody tr th:only-of-type {\n        vertical-align: middle;\n    }\n\n    .dataframe tbody tr th {\n        vertical-align: top;\n    }\n\n    .dataframe thead th {\n        text-align: right;\n    }\n</style>\n<table border=\"1\" class=\"dataframe\">\n  <thead>\n    <tr style=\"text-align: right;\">\n      <th></th>\n      <th>survived</th>\n      <th>age</th>\n      <th>n_siblings_spouses</th>\n      <th>parch</th>\n      <th>fare</th>\n    </tr>\n  </thead>\n  <tbody>\n    <tr>\n      <th>count</th>\n      <td>627.000000</td>\n      <td>627.000000</td>\n      <td>627.000000</td>\n      <td>627.000000</td>\n      <td>627.000000</td>\n    </tr>\n    <tr>\n      <th>mean</th>\n      <td>0.387560</td>\n      <td>29.631308</td>\n      <td>0.545455</td>\n      <td>0.379585</td>\n      <td>34.385399</td>\n    </tr>\n    <tr>\n      <th>std</th>\n      <td>0.487582</td>\n      <td>12.511818</td>\n      <td>1.151090</td>\n      <td>0.792999</td>\n      <td>54.597730</td>\n    </tr>\n    <tr>\n      <th>min</th>\n      <td>0.000000</td>\n      <td>0.750000</td>\n      <td>0.000000</td>\n      <td>0.000000</td>\n      <td>0.000000</td>\n    </tr>\n    <tr>\n      <th>25%</th>\n      <td>0.000000</td>\n      <td>23.000000</td>\n      <td>0.000000</td>\n      <td>0.000000</td>\n      <td>7.895800</td>\n    </tr>\n    <tr>\n      <th>50%</th>\n      <td>0.000000</td>\n      <td>28.000000</td>\n      <td>0.000000</td>\n      <td>0.000000</td>\n      <td>15.045800</td>\n    </tr>\n    <tr>\n      <th>75%</th>\n      <td>1.000000</td>\n      <td>35.000000</td>\n      <td>1.000000</td>\n      <td>0.000000</td>\n      <td>31.387500</td>\n    </tr>\n    <tr>\n      <th>max</th>\n      <td>1.000000</td>\n      <td>80.000000</td>\n      <td>8.000000</td>\n      <td>5.000000</td>\n      <td>512.329200</td>\n    </tr>\n  </tbody>\n</table>\n</div>",
            "text/plain": "         survived         age  n_siblings_spouses       parch        fare\ncount  627.000000  627.000000          627.000000  627.000000  627.000000\nmean     0.387560   29.631308            0.545455    0.379585   34.385399\nstd      0.487582   12.511818            1.151090    0.792999   54.597730\nmin      0.000000    0.750000            0.000000    0.000000    0.000000\n25%      0.000000   23.000000            0.000000    0.000000    7.895800\n50%      0.000000   28.000000            0.000000    0.000000   15.045800\n75%      1.000000   35.000000            1.000000    0.000000   31.387500\nmax      1.000000   80.000000            8.000000    5.000000  512.329200"
          },
          "metadata": {}
        }
      ],
      "execution_count": 11,
      "metadata": {},
      "id": "249acbee"
    },
    {
      "cell_type": "code",
      "source": [
        "# We will use this batch to demonstrate several types of feature columns\n",
        "example_batch = next(iter(train_ds))[0]\n",
        "# A utility method to create a feature column\n",
        "# and to transform a batch of data\n",
        "def demo(feature_column):\n",
        "  feature_layer = layers.DenseFeatures(feature_column)\n",
        "  print(feature_layer(example_batch).numpy())"
      ],
      "outputs": [],
      "execution_count": 12,
      "metadata": {},
      "id": "d56b07c7"
    },
    {
      "cell_type": "code",
      "source": [
        "age = feature_column.numeric_column('age')\n",
        "age_buckets = feature_column.bucketized_column(age, boundaries=[23, 28, 35])\n",
        "demo(age_buckets)"
      ],
      "outputs": [
        {
          "output_type": "stream",
          "name": "stdout",
          "text": [
            "[[0. 0. 0. 1.]\n",
            " [1. 0. 0. 0.]\n",
            " [0. 0. 0. 1.]]\n"
          ]
        }
      ],
      "execution_count": 13,
      "metadata": {},
      "id": "3caceffd"
    },
    {
      "cell_type": "code",
      "source": [
        "h = {}\n",
        "for col in train_df:\n",
        "  if col in ['sex', 'class', 'deck', 'embark_town', 'alone']:\n",
        "    print(col, ':', train_df[col].unique())\n",
        "    h[col] = train_df[col].unique()"
      ],
      "outputs": [
        {
          "output_type": "stream",
          "name": "stdout",
          "text": [
            "sex : ['male' 'female']\n",
            "class : ['Third' 'First' 'Second']\n",
            "deck : ['unknown' 'C' 'G' 'A' 'B' 'D' 'F' 'E']\n",
            "embark_town : ['Southampton' 'Cherbourg' 'Queenstown' 'unknown']\n",
            "alone : ['n' 'y']\n"
          ]
        }
      ],
      "execution_count": 14,
      "metadata": {},
      "id": "dcdfba5f"
    },
    {
      "cell_type": "code",
      "source": [
        "type(h.get('sex').tolist())"
      ],
      "outputs": [
        {
          "output_type": "execute_result",
          "execution_count": 15,
          "data": {
            "text/plain": "list"
          },
          "metadata": {}
        }
      ],
      "execution_count": 15,
      "metadata": {},
      "id": "4da5bc9e"
    },
    {
      "cell_type": "code",
      "source": [
        "sex_type = feature_column.categorical_column_with_vocabulary_list(\n",
        "      'sex', ['male' 'female'])\n",
        "sex_type_one_hot = feature_column.indicator_column(sex_type)\n",
        "\n",
        "## use key to lookup value and pass the value to one-hot encoding.\n",
        "sex_type = feature_column.categorical_column_with_vocabulary_list(\n",
        "      'sex', h.get('sex').tolist())\n",
        "sex_type_one_hot = feature_column.indicator_column(sex_type)\n",
        "\n",
        "class_type = feature_column.categorical_column_with_vocabulary_list(\n",
        "      'class', ['Third' 'First' 'Second'])\n",
        "class_type_one_hot = feature_column.indicator_column(class_type)\n",
        "\n",
        "deck_type = feature_column.categorical_column_with_vocabulary_list(\n",
        "      'deck', h.get('deck').tolist())\n",
        "deck_type_one_hot = feature_column.indicator_column(deck_type)\n",
        "\n",
        "embark_town_type = feature_column.categorical_column_with_vocabulary_list(\n",
        "      'embark_town', h.get('embark_town').tolist())\n",
        "embark_town_type_one_hot = feature_column.indicator_column(embark_town_type)\n",
        "\n",
        "alone_type = feature_column.categorical_column_with_vocabulary_list(\n",
        "      'alone', h.get('alone').tolist())\n",
        "alone_one_hot = feature_column.indicator_column(alone_type)"
      ],
      "outputs": [],
      "execution_count": 16,
      "metadata": {},
      "id": "57bb81e4"
    },
    {
      "cell_type": "code",
      "source": [
        "deck = feature_column.categorical_column_with_vocabulary_list(\n",
        "      'deck', train_df.deck.unique())\n",
        "deck_embedding = feature_column.embedding_column(deck, dimension=3)"
      ],
      "outputs": [],
      "execution_count": 17,
      "metadata": {},
      "id": "e5968fb6"
    },
    {
      "cell_type": "code",
      "source": [
        "class_hashed = feature_column.categorical_column_with_hash_bucket(\n",
        "      'class', hash_bucket_size=4)\n",
        "demo(feature_column.indicator_column(class_hashed))"
      ],
      "outputs": [
        {
          "output_type": "stream",
          "name": "stdout",
          "text": [
            "[[0. 0. 0. 1.]\n",
            " [0. 0. 0. 1.]\n",
            " [0. 1. 0. 0.]]\n"
          ]
        }
      ],
      "execution_count": 18,
      "metadata": {},
      "id": "4c86d074"
    },
    {
      "cell_type": "code",
      "source": [
        "feature_column"
      ],
      "outputs": [
        {
          "output_type": "execute_result",
          "execution_count": 19,
          "data": {
            "text/plain": "<module 'tensorflow._api.v2.feature_column' from '/anaconda/envs/azureml_py36/lib/python3.6/site-packages/tensorflow/_api/v2/feature_column/__init__.py'>"
          },
          "metadata": {}
        }
      ],
      "execution_count": 19,
      "metadata": {},
      "id": "7d2cdd3a"
    },
    {
      "cell_type": "code",
      "source": [
        "crossed_feature = feature_column.crossed_column([sex_type, class_type], hash_bucket_size=5)\n",
        "#demo(feature_column.indicator_column(crossed_feature))"
      ],
      "outputs": [],
      "execution_count": 20,
      "metadata": {},
      "id": "31f607a4"
    },
    {
      "cell_type": "code",
      "source": [
        "crossed_feature"
      ],
      "outputs": [
        {
          "output_type": "execute_result",
          "execution_count": 21,
          "data": {
            "text/plain": "CrossedColumn(keys=(VocabularyListCategoricalColumn(key='sex', vocabulary_list=('male', 'female'), dtype=tf.string, default_value=-1, num_oov_buckets=0), VocabularyListCategoricalColumn(key='class', vocabulary_list=('ThirdFirstSecond',), dtype=tf.string, default_value=-1, num_oov_buckets=0)), hash_bucket_size=5, hash_key=None)"
          },
          "metadata": {}
        }
      ],
      "execution_count": 21,
      "metadata": {},
      "id": "b0b3a4a1"
    },
    {
      "cell_type": "code",
      "source": [
        "feature_columns = []\n",
        "\n",
        "# numeric cols\n",
        "for header in ['age', 'n_siblings_spouses', 'parch', 'fare']:\n",
        "  feature_columns.append(feature_column.numeric_column(header))"
      ],
      "outputs": [],
      "execution_count": 22,
      "metadata": {},
      "id": "b46b4d32"
    },
    {
      "cell_type": "code",
      "source": [
        "age = feature_column.numeric_column('age')\n",
        "age_buckets = feature_column.bucketized_column(age, boundaries=[23, 28, 35])"
      ],
      "outputs": [],
      "execution_count": 23,
      "metadata": {},
      "id": "b2e3586c"
    },
    {
      "cell_type": "code",
      "source": [
        "feature_columns.append(age_buckets)"
      ],
      "outputs": [],
      "execution_count": 24,
      "metadata": {},
      "id": "c1aaec3e"
    },
    {
      "cell_type": "code",
      "source": [
        "# indicator_columns\n",
        "indicator_column_names = ['sex', 'class', 'deck', 'embark_town', 'alone']\n",
        "for col_name in indicator_column_names:\n",
        "  categorical_column = feature_column.categorical_column_with_vocabulary_list(\n",
        "      col_name, train_df[col_name].unique())\n",
        "  indicator_column = feature_column.indicator_column(categorical_column)\n",
        "  feature_columns.append(indicator_column)"
      ],
      "outputs": [],
      "execution_count": 25,
      "metadata": {},
      "id": "bba01c5e"
    },
    {
      "cell_type": "code",
      "source": [
        "# append embedding columns\n",
        "deck = feature_column.categorical_column_with_vocabulary_list(\n",
        "      'deck', train_df.deck.unique())\n",
        "deck_embedding = feature_column.embedding_column(deck, dimension=3)\n",
        "feature_columns.append(deck_embedding)"
      ],
      "outputs": [],
      "execution_count": 26,
      "metadata": {},
      "id": "acde0710"
    },
    {
      "cell_type": "code",
      "source": [
        "# append crossed columns\n",
        "cross_type_feature = feature_column.crossed_column(['sex', 'class'], hash_bucket_size=5)\n",
        "feature_columns.append(feature_column.indicator_column(cross_type_feature))"
      ],
      "outputs": [],
      "execution_count": 27,
      "metadata": {},
      "id": "3b2dd86e"
    },
    {
      "cell_type": "code",
      "source": [
        "feature_layer = tf.keras.layers.DenseFeatures(feature_columns)"
      ],
      "outputs": [],
      "execution_count": 28,
      "metadata": {},
      "id": "354797b2"
    },
    {
      "cell_type": "code",
      "source": [
        "def pandas_to_dataset(dataframe, shuffle=True, batch_size=32):\n",
        "  dataframe = dataframe.copy()\n",
        "  labels = dataframe.pop('survived')\n",
        "  ds = tf.data.Dataset.from_tensor_slices((dict(dataframe), labels))\n",
        "  if shuffle:\n",
        "    ds = ds.shuffle(buffer_size=len(dataframe))\n",
        "  ds = ds.batch(batch_size)\n",
        "  return ds"
      ],
      "outputs": [],
      "execution_count": 29,
      "metadata": {},
      "id": "7dfa766b"
    },
    {
      "cell_type": "code",
      "source": [
        "val_df, test_df = train_test_split(test_df, test_size=0.4)"
      ],
      "outputs": [],
      "execution_count": 30,
      "metadata": {},
      "id": "1bde791e"
    },
    {
      "cell_type": "code",
      "source": [
        "print(len(train_df), 'train examples')\n",
        "print(len(val_df), 'validation examples')\n",
        "print(len(test_df), 'test examples')"
      ],
      "outputs": [
        {
          "output_type": "stream",
          "name": "stdout",
          "text": [
            "627 train examples\n",
            "158 validation examples\n",
            "106 test examples\n"
          ]
        }
      ],
      "execution_count": 31,
      "metadata": {},
      "id": "661cf714"
    },
    {
      "cell_type": "code",
      "source": [
        "train_df"
      ],
      "outputs": [
        {
          "output_type": "execute_result",
          "execution_count": 32,
          "data": {
            "text/html": "<div>\n<style scoped>\n    .dataframe tbody tr th:only-of-type {\n        vertical-align: middle;\n    }\n\n    .dataframe tbody tr th {\n        vertical-align: top;\n    }\n\n    .dataframe thead th {\n        text-align: right;\n    }\n</style>\n<table border=\"1\" class=\"dataframe\">\n  <thead>\n    <tr style=\"text-align: right;\">\n      <th></th>\n      <th>survived</th>\n      <th>sex</th>\n      <th>age</th>\n      <th>n_siblings_spouses</th>\n      <th>parch</th>\n      <th>fare</th>\n      <th>class</th>\n      <th>deck</th>\n      <th>embark_town</th>\n      <th>alone</th>\n    </tr>\n  </thead>\n  <tbody>\n    <tr>\n      <th>0</th>\n      <td>0</td>\n      <td>male</td>\n      <td>22.0</td>\n      <td>1</td>\n      <td>0</td>\n      <td>7.2500</td>\n      <td>Third</td>\n      <td>unknown</td>\n      <td>Southampton</td>\n      <td>n</td>\n    </tr>\n    <tr>\n      <th>1</th>\n      <td>1</td>\n      <td>female</td>\n      <td>38.0</td>\n      <td>1</td>\n      <td>0</td>\n      <td>71.2833</td>\n      <td>First</td>\n      <td>C</td>\n      <td>Cherbourg</td>\n      <td>n</td>\n    </tr>\n    <tr>\n      <th>2</th>\n      <td>1</td>\n      <td>female</td>\n      <td>26.0</td>\n      <td>0</td>\n      <td>0</td>\n      <td>7.9250</td>\n      <td>Third</td>\n      <td>unknown</td>\n      <td>Southampton</td>\n      <td>y</td>\n    </tr>\n    <tr>\n      <th>3</th>\n      <td>1</td>\n      <td>female</td>\n      <td>35.0</td>\n      <td>1</td>\n      <td>0</td>\n      <td>53.1000</td>\n      <td>First</td>\n      <td>C</td>\n      <td>Southampton</td>\n      <td>n</td>\n    </tr>\n    <tr>\n      <th>4</th>\n      <td>0</td>\n      <td>male</td>\n      <td>28.0</td>\n      <td>0</td>\n      <td>0</td>\n      <td>8.4583</td>\n      <td>Third</td>\n      <td>unknown</td>\n      <td>Queenstown</td>\n      <td>y</td>\n    </tr>\n    <tr>\n      <th>...</th>\n      <td>...</td>\n      <td>...</td>\n      <td>...</td>\n      <td>...</td>\n      <td>...</td>\n      <td>...</td>\n      <td>...</td>\n      <td>...</td>\n      <td>...</td>\n      <td>...</td>\n    </tr>\n    <tr>\n      <th>622</th>\n      <td>0</td>\n      <td>male</td>\n      <td>28.0</td>\n      <td>0</td>\n      <td>0</td>\n      <td>10.5000</td>\n      <td>Second</td>\n      <td>unknown</td>\n      <td>Southampton</td>\n      <td>y</td>\n    </tr>\n    <tr>\n      <th>623</th>\n      <td>0</td>\n      <td>male</td>\n      <td>25.0</td>\n      <td>0</td>\n      <td>0</td>\n      <td>7.0500</td>\n      <td>Third</td>\n      <td>unknown</td>\n      <td>Southampton</td>\n      <td>y</td>\n    </tr>\n    <tr>\n      <th>624</th>\n      <td>1</td>\n      <td>female</td>\n      <td>19.0</td>\n      <td>0</td>\n      <td>0</td>\n      <td>30.0000</td>\n      <td>First</td>\n      <td>B</td>\n      <td>Southampton</td>\n      <td>y</td>\n    </tr>\n    <tr>\n      <th>625</th>\n      <td>0</td>\n      <td>female</td>\n      <td>28.0</td>\n      <td>1</td>\n      <td>2</td>\n      <td>23.4500</td>\n      <td>Third</td>\n      <td>unknown</td>\n      <td>Southampton</td>\n      <td>n</td>\n    </tr>\n    <tr>\n      <th>626</th>\n      <td>0</td>\n      <td>male</td>\n      <td>32.0</td>\n      <td>0</td>\n      <td>0</td>\n      <td>7.7500</td>\n      <td>Third</td>\n      <td>unknown</td>\n      <td>Queenstown</td>\n      <td>y</td>\n    </tr>\n  </tbody>\n</table>\n<p>627 rows × 10 columns</p>\n</div>",
            "text/plain": "     survived     sex   age  n_siblings_spouses  parch     fare   class  \\\n0           0    male  22.0                   1      0   7.2500   Third   \n1           1  female  38.0                   1      0  71.2833   First   \n2           1  female  26.0                   0      0   7.9250   Third   \n3           1  female  35.0                   1      0  53.1000   First   \n4           0    male  28.0                   0      0   8.4583   Third   \n..        ...     ...   ...                 ...    ...      ...     ...   \n622         0    male  28.0                   0      0  10.5000  Second   \n623         0    male  25.0                   0      0   7.0500   Third   \n624         1  female  19.0                   0      0  30.0000   First   \n625         0  female  28.0                   1      2  23.4500   Third   \n626         0    male  32.0                   0      0   7.7500   Third   \n\n        deck  embark_town alone  \n0    unknown  Southampton     n  \n1          C    Cherbourg     n  \n2    unknown  Southampton     y  \n3          C  Southampton     n  \n4    unknown   Queenstown     y  \n..       ...          ...   ...  \n622  unknown  Southampton     y  \n623  unknown  Southampton     y  \n624        B  Southampton     y  \n625  unknown  Southampton     n  \n626  unknown   Queenstown     y  \n\n[627 rows x 10 columns]"
          },
          "metadata": {}
        }
      ],
      "execution_count": 32,
      "metadata": {},
      "id": "28bdbae1"
    },
    {
      "cell_type": "code",
      "source": [
        "'''\n",
        "batch_size = 33\n",
        "train_ds = df_to_dataset(train_df, batch_size=batch_size)\n",
        "'''"
      ],
      "outputs": [
        {
          "output_type": "execute_result",
          "execution_count": 33,
          "data": {
            "text/plain": "'\\nbatch_size = 33\\ntrain_ds = df_to_dataset(train_df, batch_size=batch_size)\\n'"
          },
          "metadata": {}
        }
      ],
      "execution_count": 33,
      "metadata": {},
      "id": "6e555940"
    },
    {
      "cell_type": "code",
      "source": [
        "batch_size = 33\n",
        "labels = train_df.copy().pop('survived')\n",
        "working_ds = tf.data.Dataset.from_tensor_slices((dict(train_df), labels))\n",
        "working_ds = working_ds.shuffle(buffer_size=len(train_df))\n",
        "train_ds = working_ds.batch(batch_size)"
      ],
      "outputs": [],
      "execution_count": 34,
      "metadata": {},
      "id": "a194fd03"
    },
    {
      "cell_type": "code",
      "source": [
        "val_ds = pandas_to_dataset(val_df, shuffle=False, batch_size=batch_size)\n",
        "test_ds = pandas_to_dataset(test_df, shuffle=False, batch_size=batch_size)"
      ],
      "outputs": [],
      "execution_count": 35,
      "metadata": {},
      "id": "de42a1a9"
    },
    {
      "cell_type": "code",
      "source": [
        "model = tf.keras.Sequential([\n",
        "  feature_layer,\n",
        "  layers.Dense(128, activation='relu'),\n",
        "  layers.Dense(128, activation='relu'),\n",
        "  layers.Dropout(.1),\n",
        "  layers.Dense(1, activation='sigmoid')\n",
        "])\n",
        "\n",
        "model.compile(optimizer='adam',\n",
        "              loss=tf.keras.losses.BinaryCrossentropy(from_logits=True),\n",
        "              metrics=['accuracy'])\n",
        "\n",
        "model.fit(train_ds,\n",
        "          validation_data=val_ds,\n",
        "          epochs=10)"
      ],
      "outputs": [
        {
          "output_type": "stream",
          "name": "stdout",
          "text": [
            "Epoch 1/10\n",
            "WARNING:tensorflow:Layers in a Sequential model should only have a single input tensor, but we receive a <class 'dict'> input: {'survived': <tf.Tensor 'ExpandDims_9:0' shape=(None, 1) dtype=int64>, 'sex': <tf.Tensor 'ExpandDims_8:0' shape=(None, 1) dtype=string>, 'age': <tf.Tensor 'ExpandDims:0' shape=(None, 1) dtype=float64>, 'n_siblings_spouses': <tf.Tensor 'ExpandDims_6:0' shape=(None, 1) dtype=int64>, 'parch': <tf.Tensor 'ExpandDims_7:0' shape=(None, 1) dtype=int64>, 'fare': <tf.Tensor 'ExpandDims_5:0' shape=(None, 1) dtype=float64>, 'class': <tf.Tensor 'ExpandDims_2:0' shape=(None, 1) dtype=string>, 'deck': <tf.Tensor 'ExpandDims_3:0' shape=(None, 1) dtype=string>, 'embark_town': <tf.Tensor 'ExpandDims_4:0' shape=(None, 1) dtype=string>, 'alone': <tf.Tensor 'ExpandDims_1:0' shape=(None, 1) dtype=string>}\n",
            "Consider rewriting this model with the Functional API.\n"
          ]
        },
        {
          "output_type": "stream",
          "name": "stderr",
          "text": [
            "WARNING:tensorflow:Layers in a Sequential model should only have a single input tensor, but we receive a <class 'dict'> input: {'survived': <tf.Tensor 'ExpandDims_9:0' shape=(None, 1) dtype=int64>, 'sex': <tf.Tensor 'ExpandDims_8:0' shape=(None, 1) dtype=string>, 'age': <tf.Tensor 'ExpandDims:0' shape=(None, 1) dtype=float64>, 'n_siblings_spouses': <tf.Tensor 'ExpandDims_6:0' shape=(None, 1) dtype=int64>, 'parch': <tf.Tensor 'ExpandDims_7:0' shape=(None, 1) dtype=int64>, 'fare': <tf.Tensor 'ExpandDims_5:0' shape=(None, 1) dtype=float64>, 'class': <tf.Tensor 'ExpandDims_2:0' shape=(None, 1) dtype=string>, 'deck': <tf.Tensor 'ExpandDims_3:0' shape=(None, 1) dtype=string>, 'embark_town': <tf.Tensor 'ExpandDims_4:0' shape=(None, 1) dtype=string>, 'alone': <tf.Tensor 'ExpandDims_1:0' shape=(None, 1) dtype=string>}\n",
            "Consider rewriting this model with the Functional API.\n"
          ]
        },
        {
          "output_type": "stream",
          "name": "stdout",
          "text": [
            "WARNING:tensorflow:Layers in a Sequential model should only have a single input tensor, but we receive a <class 'dict'> input: {'survived': <tf.Tensor 'ExpandDims_9:0' shape=(None, 1) dtype=int64>, 'sex': <tf.Tensor 'ExpandDims_8:0' shape=(None, 1) dtype=string>, 'age': <tf.Tensor 'ExpandDims:0' shape=(None, 1) dtype=float64>, 'n_siblings_spouses': <tf.Tensor 'ExpandDims_6:0' shape=(None, 1) dtype=int64>, 'parch': <tf.Tensor 'ExpandDims_7:0' shape=(None, 1) dtype=int64>, 'fare': <tf.Tensor 'ExpandDims_5:0' shape=(None, 1) dtype=float64>, 'class': <tf.Tensor 'ExpandDims_2:0' shape=(None, 1) dtype=string>, 'deck': <tf.Tensor 'ExpandDims_3:0' shape=(None, 1) dtype=string>, 'embark_town': <tf.Tensor 'ExpandDims_4:0' shape=(None, 1) dtype=string>, 'alone': <tf.Tensor 'ExpandDims_1:0' shape=(None, 1) dtype=string>}\n",
            "Consider rewriting this model with the Functional API.\n"
          ]
        },
        {
          "output_type": "stream",
          "name": "stderr",
          "text": [
            "WARNING:tensorflow:Layers in a Sequential model should only have a single input tensor, but we receive a <class 'dict'> input: {'survived': <tf.Tensor 'ExpandDims_9:0' shape=(None, 1) dtype=int64>, 'sex': <tf.Tensor 'ExpandDims_8:0' shape=(None, 1) dtype=string>, 'age': <tf.Tensor 'ExpandDims:0' shape=(None, 1) dtype=float64>, 'n_siblings_spouses': <tf.Tensor 'ExpandDims_6:0' shape=(None, 1) dtype=int64>, 'parch': <tf.Tensor 'ExpandDims_7:0' shape=(None, 1) dtype=int64>, 'fare': <tf.Tensor 'ExpandDims_5:0' shape=(None, 1) dtype=float64>, 'class': <tf.Tensor 'ExpandDims_2:0' shape=(None, 1) dtype=string>, 'deck': <tf.Tensor 'ExpandDims_3:0' shape=(None, 1) dtype=string>, 'embark_town': <tf.Tensor 'ExpandDims_4:0' shape=(None, 1) dtype=string>, 'alone': <tf.Tensor 'ExpandDims_1:0' shape=(None, 1) dtype=string>}\n",
            "Consider rewriting this model with the Functional API.\n"
          ]
        },
        {
          "output_type": "stream",
          "name": "stdout",
          "text": [
            " 1/19 [>.............................] - ETA: 24s - loss: 2.6612 - accuracy: 0.5758WARNING:tensorflow:Layers in a Sequential model should only have a single input tensor, but we receive a <class 'dict'> input: {'sex': <tf.Tensor 'ExpandDims_8:0' shape=(None, 1) dtype=string>, 'age': <tf.Tensor 'ExpandDims:0' shape=(None, 1) dtype=float64>, 'n_siblings_spouses': <tf.Tensor 'ExpandDims_6:0' shape=(None, 1) dtype=int64>, 'parch': <tf.Tensor 'ExpandDims_7:0' shape=(None, 1) dtype=int64>, 'fare': <tf.Tensor 'ExpandDims_5:0' shape=(None, 1) dtype=float64>, 'class': <tf.Tensor 'ExpandDims_2:0' shape=(None, 1) dtype=string>, 'deck': <tf.Tensor 'ExpandDims_3:0' shape=(None, 1) dtype=string>, 'embark_town': <tf.Tensor 'ExpandDims_4:0' shape=(None, 1) dtype=string>, 'alone': <tf.Tensor 'ExpandDims_1:0' shape=(None, 1) dtype=string>}\n",
            "Consider rewriting this model with the Functional API.\n"
          ]
        },
        {
          "output_type": "stream",
          "name": "stderr",
          "text": [
            "WARNING:tensorflow:Layers in a Sequential model should only have a single input tensor, but we receive a <class 'dict'> input: {'sex': <tf.Tensor 'ExpandDims_8:0' shape=(None, 1) dtype=string>, 'age': <tf.Tensor 'ExpandDims:0' shape=(None, 1) dtype=float64>, 'n_siblings_spouses': <tf.Tensor 'ExpandDims_6:0' shape=(None, 1) dtype=int64>, 'parch': <tf.Tensor 'ExpandDims_7:0' shape=(None, 1) dtype=int64>, 'fare': <tf.Tensor 'ExpandDims_5:0' shape=(None, 1) dtype=float64>, 'class': <tf.Tensor 'ExpandDims_2:0' shape=(None, 1) dtype=string>, 'deck': <tf.Tensor 'ExpandDims_3:0' shape=(None, 1) dtype=string>, 'embark_town': <tf.Tensor 'ExpandDims_4:0' shape=(None, 1) dtype=string>, 'alone': <tf.Tensor 'ExpandDims_1:0' shape=(None, 1) dtype=string>}\n",
            "Consider rewriting this model with the Functional API.\n"
          ]
        },
        {
          "output_type": "stream",
          "name": "stdout",
          "text": [
            "19/19 [==============================] - 2s 45ms/step - loss: 1.6756 - accuracy: 0.5362 - val_loss: 0.6373 - val_accuracy: 0.6392\n",
            "Epoch 2/10\n",
            "19/19 [==============================] - 0s 4ms/step - loss: 0.9282 - accuracy: 0.5896 - val_loss: 0.6045 - val_accuracy: 0.7342\n",
            "Epoch 3/10\n",
            "19/19 [==============================] - 0s 4ms/step - loss: 0.9535 - accuracy: 0.6282 - val_loss: 0.5666 - val_accuracy: 0.7342\n",
            "Epoch 4/10\n",
            "19/19 [==============================] - 0s 4ms/step - loss: 0.7886 - accuracy: 0.6848 - val_loss: 0.5302 - val_accuracy: 0.7152\n",
            "Epoch 5/10\n",
            "19/19 [==============================] - 0s 3ms/step - loss: 0.7556 - accuracy: 0.6856 - val_loss: 0.5313 - val_accuracy: 0.7342\n",
            "Epoch 6/10\n",
            "19/19 [==============================] - 0s 4ms/step - loss: 0.7555 - accuracy: 0.6981 - val_loss: 0.6351 - val_accuracy: 0.7342\n",
            "Epoch 7/10\n",
            "19/19 [==============================] - 0s 3ms/step - loss: 0.6037 - accuracy: 0.7187 - val_loss: 0.5155 - val_accuracy: 0.7278\n",
            "Epoch 8/10\n",
            "19/19 [==============================] - 0s 3ms/step - loss: 0.5842 - accuracy: 0.7376 - val_loss: 0.4689 - val_accuracy: 0.7468\n",
            "Epoch 9/10\n",
            "19/19 [==============================] - 0s 4ms/step - loss: 0.5294 - accuracy: 0.7699 - val_loss: 0.4885 - val_accuracy: 0.7658\n",
            "Epoch 10/10\n",
            "19/19 [==============================] - 0s 4ms/step - loss: 0.5815 - accuracy: 0.7361 - val_loss: 0.4451 - val_accuracy: 0.7722\n"
          ]
        },
        {
          "output_type": "execute_result",
          "execution_count": 36,
          "data": {
            "text/plain": "<tensorflow.python.keras.callbacks.History at 0x7f521424e0f0>"
          },
          "metadata": {}
        }
      ],
      "execution_count": 36,
      "metadata": {},
      "id": "ca458789"
    },
    {
      "cell_type": "code",
      "source": [
        "prediction_raw = model.predict(test_ds)"
      ],
      "outputs": [
        {
          "output_type": "stream",
          "name": "stdout",
          "text": [
            "WARNING:tensorflow:Layers in a Sequential model should only have a single input tensor, but we receive a <class 'dict'> input: {'sex': <tf.Tensor 'ExpandDims_8:0' shape=(None, 1) dtype=string>, 'age': <tf.Tensor 'ExpandDims:0' shape=(None, 1) dtype=float64>, 'n_siblings_spouses': <tf.Tensor 'ExpandDims_6:0' shape=(None, 1) dtype=int64>, 'parch': <tf.Tensor 'ExpandDims_7:0' shape=(None, 1) dtype=int64>, 'fare': <tf.Tensor 'ExpandDims_5:0' shape=(None, 1) dtype=float64>, 'class': <tf.Tensor 'ExpandDims_2:0' shape=(None, 1) dtype=string>, 'deck': <tf.Tensor 'ExpandDims_3:0' shape=(None, 1) dtype=string>, 'embark_town': <tf.Tensor 'ExpandDims_4:0' shape=(None, 1) dtype=string>, 'alone': <tf.Tensor 'ExpandDims_1:0' shape=(None, 1) dtype=string>}\n",
            "Consider rewriting this model with the Functional API.\n"
          ]
        },
        {
          "output_type": "stream",
          "name": "stderr",
          "text": [
            "WARNING:tensorflow:Layers in a Sequential model should only have a single input tensor, but we receive a <class 'dict'> input: {'sex': <tf.Tensor 'ExpandDims_8:0' shape=(None, 1) dtype=string>, 'age': <tf.Tensor 'ExpandDims:0' shape=(None, 1) dtype=float64>, 'n_siblings_spouses': <tf.Tensor 'ExpandDims_6:0' shape=(None, 1) dtype=int64>, 'parch': <tf.Tensor 'ExpandDims_7:0' shape=(None, 1) dtype=int64>, 'fare': <tf.Tensor 'ExpandDims_5:0' shape=(None, 1) dtype=float64>, 'class': <tf.Tensor 'ExpandDims_2:0' shape=(None, 1) dtype=string>, 'deck': <tf.Tensor 'ExpandDims_3:0' shape=(None, 1) dtype=string>, 'embark_town': <tf.Tensor 'ExpandDims_4:0' shape=(None, 1) dtype=string>, 'alone': <tf.Tensor 'ExpandDims_1:0' shape=(None, 1) dtype=string>}\n",
            "Consider rewriting this model with the Functional API.\n"
          ]
        }
      ],
      "execution_count": 37,
      "metadata": {},
      "id": "f658e2ea"
    },
    {
      "cell_type": "code",
      "source": [
        "prediction_list = prediction_raw.squeeze().tolist()"
      ],
      "outputs": [],
      "execution_count": 38,
      "metadata": {},
      "id": "86568975"
    },
    {
      "cell_type": "code",
      "source": [
        "test_df['predicted'] = prediction_list"
      ],
      "outputs": [],
      "execution_count": 39,
      "metadata": {},
      "id": "af565948"
    },
    {
      "cell_type": "code",
      "source": [
        "# Put predicted as first col, next to survived.\n",
        "cols = list(test_df.columns)\n",
        "cols = [cols[-1]] + cols[:-1]\n",
        "test_df = test_df[cols]"
      ],
      "outputs": [],
      "execution_count": 40,
      "metadata": {},
      "id": "a3e7a743"
    },
    {
      "cell_type": "code",
      "source": [
        "test_df"
      ],
      "outputs": [
        {
          "output_type": "execute_result",
          "execution_count": 41,
          "data": {
            "text/html": "<div>\n<style scoped>\n    .dataframe tbody tr th:only-of-type {\n        vertical-align: middle;\n    }\n\n    .dataframe tbody tr th {\n        vertical-align: top;\n    }\n\n    .dataframe thead th {\n        text-align: right;\n    }\n</style>\n<table border=\"1\" class=\"dataframe\">\n  <thead>\n    <tr style=\"text-align: right;\">\n      <th></th>\n      <th>predicted</th>\n      <th>survived</th>\n      <th>sex</th>\n      <th>age</th>\n      <th>n_siblings_spouses</th>\n      <th>parch</th>\n      <th>fare</th>\n      <th>class</th>\n      <th>deck</th>\n      <th>embark_town</th>\n      <th>alone</th>\n    </tr>\n  </thead>\n  <tbody>\n    <tr>\n      <th>96</th>\n      <td>0.344155</td>\n      <td>1</td>\n      <td>male</td>\n      <td>3.0</td>\n      <td>1</td>\n      <td>1</td>\n      <td>15.9000</td>\n      <td>Third</td>\n      <td>unknown</td>\n      <td>Southampton</td>\n      <td>n</td>\n    </tr>\n    <tr>\n      <th>200</th>\n      <td>0.137627</td>\n      <td>0</td>\n      <td>male</td>\n      <td>25.0</td>\n      <td>0</td>\n      <td>0</td>\n      <td>7.2250</td>\n      <td>Third</td>\n      <td>unknown</td>\n      <td>Cherbourg</td>\n      <td>y</td>\n    </tr>\n    <tr>\n      <th>175</th>\n      <td>0.543206</td>\n      <td>0</td>\n      <td>female</td>\n      <td>26.0</td>\n      <td>1</td>\n      <td>0</td>\n      <td>16.1000</td>\n      <td>Third</td>\n      <td>unknown</td>\n      <td>Southampton</td>\n      <td>n</td>\n    </tr>\n    <tr>\n      <th>97</th>\n      <td>0.054931</td>\n      <td>0</td>\n      <td>male</td>\n      <td>42.0</td>\n      <td>0</td>\n      <td>0</td>\n      <td>8.6625</td>\n      <td>Third</td>\n      <td>unknown</td>\n      <td>Southampton</td>\n      <td>y</td>\n    </tr>\n    <tr>\n      <th>213</th>\n      <td>0.439191</td>\n      <td>1</td>\n      <td>female</td>\n      <td>28.0</td>\n      <td>0</td>\n      <td>0</td>\n      <td>7.7375</td>\n      <td>Third</td>\n      <td>unknown</td>\n      <td>Queenstown</td>\n      <td>y</td>\n    </tr>\n    <tr>\n      <th>...</th>\n      <td>...</td>\n      <td>...</td>\n      <td>...</td>\n      <td>...</td>\n      <td>...</td>\n      <td>...</td>\n      <td>...</td>\n      <td>...</td>\n      <td>...</td>\n      <td>...</td>\n      <td>...</td>\n    </tr>\n    <tr>\n      <th>69</th>\n      <td>0.597751</td>\n      <td>1</td>\n      <td>female</td>\n      <td>29.0</td>\n      <td>0</td>\n      <td>2</td>\n      <td>15.2458</td>\n      <td>Third</td>\n      <td>unknown</td>\n      <td>Cherbourg</td>\n      <td>n</td>\n    </tr>\n    <tr>\n      <th>154</th>\n      <td>0.447966</td>\n      <td>1</td>\n      <td>male</td>\n      <td>8.0</td>\n      <td>1</td>\n      <td>1</td>\n      <td>36.7500</td>\n      <td>Second</td>\n      <td>unknown</td>\n      <td>Southampton</td>\n      <td>n</td>\n    </tr>\n    <tr>\n      <th>136</th>\n      <td>0.245601</td>\n      <td>0</td>\n      <td>male</td>\n      <td>55.0</td>\n      <td>0</td>\n      <td>0</td>\n      <td>30.5000</td>\n      <td>First</td>\n      <td>C</td>\n      <td>Southampton</td>\n      <td>y</td>\n    </tr>\n    <tr>\n      <th>211</th>\n      <td>0.186822</td>\n      <td>0</td>\n      <td>male</td>\n      <td>34.0</td>\n      <td>0</td>\n      <td>0</td>\n      <td>13.0000</td>\n      <td>Second</td>\n      <td>unknown</td>\n      <td>Southampton</td>\n      <td>y</td>\n    </tr>\n    <tr>\n      <th>112</th>\n      <td>0.449214</td>\n      <td>0</td>\n      <td>female</td>\n      <td>20.0</td>\n      <td>0</td>\n      <td>0</td>\n      <td>8.6625</td>\n      <td>Third</td>\n      <td>unknown</td>\n      <td>Southampton</td>\n      <td>y</td>\n    </tr>\n  </tbody>\n</table>\n<p>106 rows × 11 columns</p>\n</div>",
            "text/plain": "     predicted  survived     sex   age  n_siblings_spouses  parch     fare  \\\n96    0.344155         1    male   3.0                   1      1  15.9000   \n200   0.137627         0    male  25.0                   0      0   7.2250   \n175   0.543206         0  female  26.0                   1      0  16.1000   \n97    0.054931         0    male  42.0                   0      0   8.6625   \n213   0.439191         1  female  28.0                   0      0   7.7375   \n..         ...       ...     ...   ...                 ...    ...      ...   \n69    0.597751         1  female  29.0                   0      2  15.2458   \n154   0.447966         1    male   8.0                   1      1  36.7500   \n136   0.245601         0    male  55.0                   0      0  30.5000   \n211   0.186822         0    male  34.0                   0      0  13.0000   \n112   0.449214         0  female  20.0                   0      0   8.6625   \n\n      class     deck  embark_town alone  \n96    Third  unknown  Southampton     n  \n200   Third  unknown    Cherbourg     y  \n175   Third  unknown  Southampton     n  \n97    Third  unknown  Southampton     y  \n213   Third  unknown   Queenstown     y  \n..      ...      ...          ...   ...  \n69    Third  unknown    Cherbourg     n  \n154  Second  unknown  Southampton     n  \n136   First        C  Southampton     y  \n211  Second  unknown  Southampton     y  \n112   Third  unknown  Southampton     y  \n\n[106 rows x 11 columns]"
          },
          "metadata": {}
        }
      ],
      "execution_count": 41,
      "metadata": {},
      "id": "926965a4"
    },
    {
      "cell_type": "code",
      "source": [
        "OUTPUT_PATH = './titanic-fairness'"
      ],
      "outputs": [],
      "execution_count": 42,
      "metadata": {},
      "id": "5b68ced9"
    },
    {
      "cell_type": "code",
      "source": [
        "# Specify Fairness Indicators in eval_config.\n",
        "eval_config = text_format.Parse(\"\"\"\n",
        "  model_specs {\n",
        "    prediction_key: 'predicted',\n",
        "    label_key: 'survived'\n",
        "  }\n",
        "  metrics_specs {\n",
        "    metrics {class_name: \"AUC\"}\n",
        "    metrics {\n",
        "      class_name: \"FairnessIndicators\"\n",
        "      config: '{\"thresholds\": [0.1, 0.50, 0.90]}'\n",
        "    }\n",
        "    metrics { class_name: \"ExampleCount\" }\n",
        "  }\n",
        "  \n",
        "  slicing_specs {\n",
        "    feature_keys: ['sex', 'class']\n",
        "  }\n",
        "  slicing_specs {}\n",
        "  \"\"\", tfma.EvalConfig())\n",
        "\n",
        "# Run TensorFlow Model Analysis.\n",
        "eval_result = tfma.analyze_raw_data(\n",
        "  data= test_df,\n",
        "  eval_config=eval_config,\n",
        "  output_path=OUTPUT_PATH)"
      ],
      "outputs": [
        {
          "output_type": "display_data",
          "data": {
            "application/javascript": "\n        if (typeof window.interactive_beam_jquery == 'undefined') {\n          var jqueryScript = document.createElement('script');\n          jqueryScript.src = 'https://code.jquery.com/jquery-3.4.1.slim.min.js';\n          jqueryScript.type = 'text/javascript';\n          jqueryScript.onload = function() {\n            var datatableScript = document.createElement('script');\n            datatableScript.src = 'https://cdn.datatables.net/1.10.20/js/jquery.dataTables.min.js';\n            datatableScript.type = 'text/javascript';\n            datatableScript.onload = function() {\n              window.interactive_beam_jquery = jQuery.noConflict(true);\n              window.interactive_beam_jquery(document).ready(function($){\n                \n              });\n            }\n            document.head.appendChild(datatableScript);\n          };\n          document.head.appendChild(jqueryScript);\n        } else {\n          window.interactive_beam_jquery(document).ready(function($){\n            \n          });\n        }"
          },
          "metadata": {}
        },
        {
          "output_type": "stream",
          "name": "stderr",
          "text": [
            "WARNING:apache_beam.io.tfrecordio:Couldn't find python-snappy so the implementation of _TFRecordUtil._masked_crc32c is not as fast as it could be.\n",
            "WARNING:apache_beam.io.filebasedsink:Deleting 1 existing files in target path matching: \n",
            "WARNING:apache_beam.io.filebasedsink:Deleting 1 existing files in target path matching: \n",
            "WARNING:apache_beam.io.filebasedsink:Deleting 1 existing files in target path matching: \n",
            "WARNING:apache_beam.io.filebasedsink:Deleting 1 existing files in target path matching: \n",
            "WARNING:apache_beam.io.filebasedsink:Deleting 1 existing files in target path matching: \n"
          ]
        },
        {
          "output_type": "stream",
          "name": "stdout",
          "text": [
            "WARNING:tensorflow:From /anaconda/envs/azureml_py36/lib/python3.6/site-packages/tensorflow_model_analysis/writers/metrics_plots_and_validations_writer.py:113: tf_record_iterator (from tensorflow.python.lib.io.tf_record) is deprecated and will be removed in a future version.\n",
            "Instructions for updating:\n",
            "Use eager execution and: \n",
            "`tf.data.TFRecordDataset(path)`\n"
          ]
        },
        {
          "output_type": "stream",
          "name": "stderr",
          "text": [
            "WARNING:tensorflow:From /anaconda/envs/azureml_py36/lib/python3.6/site-packages/tensorflow_model_analysis/writers/metrics_plots_and_validations_writer.py:113: tf_record_iterator (from tensorflow.python.lib.io.tf_record) is deprecated and will be removed in a future version.\n",
            "Instructions for updating:\n",
            "Use eager execution and: \n",
            "`tf.data.TFRecordDataset(path)`\n"
          ]
        }
      ],
      "execution_count": 43,
      "metadata": {},
      "id": "b52d12ab"
    },
    {
      "cell_type": "code",
      "source": [
        "!jupyter nbextension enable tensorflow_model_analysis --user --py"
      ],
      "outputs": [
        {
          "output_type": "stream",
          "name": "stdout",
          "text": [
            "2021-04-29 20:24:07.221567: W tensorflow/stream_executor/platform/default/dso_loader.cc:60] Could not load dynamic library 'libcudart.so.11.0'; dlerror: libcudart.so.11.0: cannot open shared object file: No such file or directory\n",
            "2021-04-29 20:24:07.221609: I tensorflow/stream_executor/cuda/cudart_stub.cc:29] Ignore above cudart dlerror if you do not have a GPU set up on your machine.\n",
            "Enabling notebook extension tensorflow_model_analysis/extension...\n",
            "      - Validating: \u001b[32mOK\u001b[0m\n"
          ]
        }
      ],
      "execution_count": 45,
      "metadata": {},
      "id": "cbe34943"
    },
    {
      "cell_type": "code",
      "source": [
        "# Render Fairness Indicators.\n",
        "tfma.addons.fairness.view.widget_view.render_fairness_indicator(eval_result)"
      ],
      "outputs": [
        {
          "output_type": "display_data",
          "data": {
            "application/vnd.jupyter.widget-view+json": {
              "model_id": "9d107b89ce444d43991b72979e93b80e",
              "version_major": 2,
              "version_minor": 0
            },
            "text/plain": "FairnessIndicatorViewer(slicingMetrics=[{'sliceValue': 'Third_X_male', 'slice': 'class_X_sex:Third_X_male', 'm…"
          },
          "metadata": {}
        }
      ],
      "execution_count": 46,
      "metadata": {},
      "id": "666b7b2e"
    },
    {
      "cell_type": "code",
      "source": [],
      "outputs": [],
      "execution_count": null,
      "metadata": {},
      "id": "9b2e3929"
    }
  ],
  "metadata": {
    "kernelspec": {
      "name": "python3-azureml",
      "language": "python",
      "display_name": "Python 3.6 - AzureML"
    },
    "language_info": {
      "name": "python",
      "version": "3.6.9",
      "mimetype": "text/x-python",
      "codemirror_mode": {
        "name": "ipython",
        "version": 3
      },
      "pygments_lexer": "ipython3",
      "nbconvert_exporter": "python",
      "file_extension": ".py"
    },
    "kernel_info": {
      "name": "python3-azureml"
    },
    "nteract": {
      "version": "nteract-front-end@1.0.0"
    }
  },
  "nbformat": 4,
  "nbformat_minor": 5
}